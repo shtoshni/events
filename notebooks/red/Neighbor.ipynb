{
 "cells": [
  {
   "cell_type": "code",
   "execution_count": 11,
   "metadata": {},
   "outputs": [],
   "source": [
    "import json\n",
    "from collections import defaultdict"
   ]
  },
  {
   "cell_type": "code",
   "execution_count": 2,
   "metadata": {},
   "outputs": [],
   "source": [
    "data_file = \"/home/shtoshni/Research/events/proc_data/red/independent_duplicate/train.512.jsonlines\""
   ]
  },
  {
   "cell_type": "code",
   "execution_count": 10,
   "metadata": {},
   "outputs": [],
   "source": [
    "def get_mention_to_cluster(clusters):\n",
    "    mention_to_cluster = {}\n",
    "    for cluster_idx, cluster in enumerate(clusters):\n",
    "        for mention in cluster:\n",
    "            tuple_ment = tuple(mention)\n",
    "            mention_to_cluster[tuple_ment] = cluster_idx\n",
    "    return mention_to_cluster\n",
    "\n",
    "\n",
    "def mention_presence(clusters):\n",
    "    doc_token_presence = {}\n",
    "    for cluster_idx, cluster in enumerate(clusters):\n",
    "        for mention in cluster:\n",
    "            for idx in range(mention[0], mention[1] + 1):\n",
    "                doc_token_presence[idx] = cluster_idx\n",
    "                \n",
    "    return doc_token_presence"
   ]
  },
  {
   "cell_type": "code",
   "execution_count": 22,
   "metadata": {},
   "outputs": [],
   "source": [
    "def analyze_doc(doc):\n",
    "    orig_clusters = doc[\"clusters\"]\n",
    "    # Filter singletons\n",
    "    clusters = [cluster for cluster in orig_clusters if len(cluster) > 1]\n",
    "    \n",
    "    event_clusters =  [cluster for cluster in clusters if cluster[0][2] == 1]\n",
    "    entity_clusters = [cluster for cluster in clusters if cluster[0][2] == 0]\n",
    "    \n",
    "    \n",
    "    mention_presence_entity_cluster = mention_presence(entity_clusters)\n",
    "#     mention_to_event_cluster = get_mention_to_cluster(event_clusters)\n",
    "    \n",
    "    if len(event_clusters) and len(entity_clusters):\n",
    "        neighbor_entity_cluster = defaultdict(list)\n",
    "        for cluster_idx, cluster in enumerate(event_clusters):\n",
    "            for (start_idx, end_idx, _) in cluster:\n",
    "                for idx in range(start_idx - 10, start_idx):\n",
    "                    if idx in mention_presence_entity_cluster:\n",
    "                        neighbor_entity_cluster[cluster_idx].append(mention_presence_entity_cluster[idx])\n",
    "                        break\n",
    "        \n",
    "        \n",
    "        print(neighbor_entity_cluster)\n",
    "                             \n",
    "        \n",
    "    else:\n",
    "        return\n",
    "    \n",
    "    \n",
    "    \n",
    "    "
   ]
  },
  {
   "cell_type": "code",
   "execution_count": 23,
   "metadata": {},
   "outputs": [
    {
     "name": "stdout",
     "output_type": "stream",
     "text": [
      "defaultdict(<class 'list'>, {0: [0]})\n",
      "defaultdict(<class 'list'>, {0: [9], 1: [9], 2: [17], 3: [14, 11, 1], 4: [1, 1, 1], 5: [1, 1, 1], 6: [10, 11], 7: [1], 8: [1, 1, 1], 9: [10, 1], 10: [7]})\n",
      "defaultdict(<class 'list'>, {0: [4], 1: [8, 8], 3: [4, 4], 4: [5], 5: [10, 3, 3], 6: [4, 4, 4], 8: [4, 4]})\n",
      "defaultdict(<class 'list'>, {0: [10, 21], 1: [23, 14], 2: [15, 24, 24, 1, 11, 10], 3: [19, 10], 4: [19, 20], 5: [24], 6: [4], 7: [4], 8: [10, 21, 4, 11]})\n",
      "defaultdict(<class 'list'>, {0: [6, 4], 1: [6, 6], 2: [6, 6], 3: [8, 8], 4: [5, 5], 5: [2, 13], 6: [15, 11]})\n",
      "defaultdict(<class 'list'>, {0: [7, 10], 1: [3, 11], 2: [7, 7], 3: [4, 8], 5: [0], 6: [2, 11], 7: [11, 8], 8: [10, 12]})\n",
      "defaultdict(<class 'list'>, {0: [3, 3, 3, 3], 1: [3, 3, 3], 2: [0, 3], 4: [2, 2], 5: [4, 8, 1, 4], 6: [9]})\n",
      "defaultdict(<class 'list'>, {0: [6, 5], 1: [3, 2], 2: [5, 0], 3: [6, 6], 4: [0, 13], 5: [8], 6: [15, 6], 7: [5, 6, 6, 8, 6], 8: [9, 1], 9: [5, 5], 10: [11, 11], 11: [12], 12: [6, 5]})\n",
      "defaultdict(<class 'list'>, {0: [2, 17], 2: [21, 21], 4: [21], 5: [21, 18, 21], 6: [18, 13], 7: [16, 0], 8: [17, 17, 17], 9: [12, 10], 10: [18, 13], 11: [16, 0, 11], 12: [16]})\n",
      "defaultdict(<class 'list'>, {0: [12, 0], 1: [12, 0], 2: [1, 12, 7], 3: [12, 12], 4: [12, 8, 12], 5: [3], 6: [4, 4], 7: [11, 5], 8: [0], 9: [5]})\n",
      "defaultdict(<class 'list'>, {0: [0, 1, 7], 1: [1, 6], 2: [4, 1], 3: [0, 11], 4: [0, 11], 5: [1, 8], 6: [7], 7: [1]})\n",
      "defaultdict(<class 'list'>, {0: [0, 0], 1: [3, 2]})\n",
      "defaultdict(<class 'list'>, {0: [15], 1: [2, 2, 1], 3: [5, 0], 4: [1, 2], 5: [2], 6: [1], 7: [2], 8: [1], 9: [0, 1], 10: [1, 0], 11: [7, 4, 1], 12: [2, 1], 13: [1], 14: [12, 12], 15: [2, 12], 16: [3, 12], 17: [3, 1], 18: [3, 1], 19: [9], 20: [9, 9], 21: [9, 9], 23: [1, 7, 7], 25: [1, 1], 26: [5, 5], 27: [0], 28: [0]})\n",
      "defaultdict(<class 'list'>, {0: [0, 2, 0], 1: [1, 1, 5], 2: [5], 3: [0, 3], 4: [4, 0], 5: [0], 6: [0], 7: [0, 0, 2], 8: [9], 9: [0], 10: [0], 12: [0]})\n",
      "defaultdict(<class 'list'>, {0: [0], 1: [13]})\n",
      "defaultdict(<class 'list'>, {0: [10, 10], 1: [10], 2: [9, 10], 3: [4, 10, 10], 5: [10, 9], 6: [10, 9]})\n",
      "defaultdict(<class 'list'>, {0: [13, 11, 3, 3], 1: [11, 2], 2: [9, 5], 3: [11, 5, 4], 4: [12, 14, 9], 5: [15, 5], 6: [5, 3, 1], 7: [8, 9]})\n",
      "defaultdict(<class 'list'>, {0: [0], 1: [4], 2: [4], 3: [1, 5, 5], 4: [4, 5], 5: [6, 7]})\n",
      "defaultdict(<class 'list'>, {0: [0, 3, 5, 6, 3, 1, 3, 10, 3], 1: [5], 2: [6], 3: [0], 5: [0], 6: [2, 3, 11], 7: [7, 3, 3], 8: [6], 9: [6], 10: [3, 3, 3]})\n",
      "defaultdict(<class 'list'>, {0: [1, 0], 1: [1, 2], 2: [2], 3: [1, 2], 4: [1, 2]})\n",
      "defaultdict(<class 'list'>, {0: [0, 4, 5], 1: [0, 2, 5], 2: [3, 4], 3: [3, 4, 4], 4: [3, 4, 4], 5: [2, 6], 6: [1, 0], 7: [14, 14], 8: [4], 9: [6, 4], 10: [2, 10]})\n",
      "defaultdict(<class 'list'>, {0: [0, 4, 1], 1: [0, 4, 6, 5, 10, 1], 2: [0, 5, 1, 2], 3: [1], 4: [2, 0], 5: [8, 2], 6: [4], 7: [2, 2], 8: [2, 2], 9: [2], 10: [5, 2]})\n",
      "defaultdict(<class 'list'>, {0: [0, 0, 0], 1: [0], 2: [0, 11], 3: [0, 0], 4: [0, 12, 0], 5: [4, 0, 5, 5], 6: [5, 6], 7: [12]})\n",
      "defaultdict(<class 'list'>, {0: [14], 1: [16, 16, 18, 18], 2: [8, 8], 3: [9, 0], 4: [2, 14]})\n",
      "defaultdict(<class 'list'>, {0: [7, 9, 4], 1: [11, 9, 2], 3: [9, 9, 2], 4: [16, 16], 5: [6, 6], 6: [19, 1]})\n",
      "defaultdict(<class 'list'>, {1: [4, 7], 2: [7, 7, 5], 3: [7, 7], 5: [6, 6, 7, 0]})\n",
      "defaultdict(<class 'list'>, {0: [4, 4], 1: [4, 21], 3: [0, 4, 21, 21, 21, 0, 20, 16, 21, 0, 25, 14, 21, 21], 4: [2, 0, 4, 28], 5: [16], 6: [4, 14], 7: [14, 14], 8: [12], 9: [0, 21, 19], 10: [0], 11: [0], 12: [21, 21], 13: [12], 14: [19], 15: [21], 16: [25, 21]})\n",
      "defaultdict(<class 'list'>, {0: [1], 1: [3, 3], 2: [8], 3: [8, 7, 3, 7], 4: [8, 7], 5: [3, 7], 6: [6, 9]})\n",
      "defaultdict(<class 'list'>, {0: [0, 2, 0, 0], 1: [1, 0], 2: [0]})\n",
      "defaultdict(<class 'list'>, {0: [0, 2], 1: [18, 18], 2: [20, 3], 3: [0, 0], 4: [21], 5: [20, 20], 6: [0, 0], 7: [2, 2], 8: [6, 30], 9: [0, 0], 10: [15, 9], 11: [3, 0], 12: [8, 20], 13: [10, 10], 14: [16, 0], 15: [0, 0, 0, 9], 16: [0, 0], 17: [0, 24, 0], 18: [19, 22], 19: [3, 0], 20: [8, 3, 0], 21: [20, 20], 22: [9, 10], 23: [5]})\n",
      "defaultdict(<class 'list'>, {0: [1], 1: [3, 3]})\n",
      "defaultdict(<class 'list'>, {0: [0, 0, 2, 0, 2, 0, 0, 0, 0], 1: [0, 0, 0, 0, 0, 0, 0, 0], 2: [0, 0, 2, 0, 2, 0, 0, 0, 0], 3: [0, 0, 0, 0, 0, 0, 0], 4: [0, 0], 5: [0, 0, 8], 6: [2, 2], 7: [2, 2], 8: [7, 7], 9: [6, 6], 10: [6, 6], 11: [2], 12: [4, 4, 4], 13: [4], 15: [9, 9, 9], 16: [2, 8], 17: [2, 2], 18: [10, 11], 19: [16], 20: [16, 12], 21: [14, 12], 24: [11], 25: [25], 26: [22, 22], 27: [24, 24]})\n",
      "defaultdict(<class 'list'>, {0: [0, 1, 1], 2: [0], 3: [1], 4: [8, 1], 5: [0, 0], 6: [0], 8: [13, 1], 9: [13, 1], 10: [12], 11: [14, 0], 12: [1]})\n",
      "defaultdict(<class 'list'>, {})\n",
      "defaultdict(<class 'list'>, {0: [1, 2], 1: [0, 0, 7], 2: [1, 2]})\n",
      "defaultdict(<class 'list'>, {0: [0, 3], 1: [0, 6, 6, 6, 2, 10], 2: [6, 6], 3: [6, 2, 2], 4: [6, 2], 5: [7, 10, 6], 6: [6, 6], 7: [6, 6]})\n",
      "defaultdict(<class 'list'>, {0: [0, 2, 5], 1: [2], 2: [1, 1, 1, 2]})\n",
      "defaultdict(<class 'list'>, {0: [2]})\n",
      "defaultdict(<class 'list'>, {0: [6, 5, 14, 3], 1: [10, 15], 2: [10, 10], 3: [16, 2, 6], 4: [14], 5: [6, 1], 6: [6, 6], 7: [1, 6, 6]})\n",
      "defaultdict(<class 'list'>, {0: [1], 1: [1, 8], 3: [17, 3], 4: [0, 0], 5: [2, 2, 2], 6: [21, 14], 7: [4, 23], 8: [0, 8], 9: [20, 20], 10: [3, 2], 11: [1, 8], 12: [20]})\n",
      "defaultdict(<class 'list'>, {0: [1, 3, 3]})\n",
      "defaultdict(<class 'list'>, {0: [5, 5, 7, 5, 17, 10], 1: [6, 0], 2: [5, 14, 14, 14], 3: [5, 6], 4: [4, 8], 5: [12, 4], 6: [13, 13], 7: [8, 22], 8: [16, 16, 16, 16, 16, 16, 16, 16], 9: [7, 17, 17, 4, 17], 10: [17, 4, 17], 11: [19, 5, 5, 17, 1], 12: [10, 17], 13: [10, 10], 14: [24, 11, 16], 15: [16, 16], 16: [13], 17: [7, 4], 18: [16, 24, 24, 10], 19: [18, 17, 18], 20: [17, 19], 21: [17, 7], 22: [16]})\n",
      "defaultdict(<class 'list'>, {0: [8, 8], 1: [9], 2: [8, 8], 3: [8, 7], 4: [7, 8]})\n",
      "defaultdict(<class 'list'>, {0: [2], 1: [3, 3]})\n",
      "defaultdict(<class 'list'>, {0: [0, 2, 2], 1: [1], 2: [1, 1], 3: [5, 5], 4: [0, 0], 5: [2, 4], 6: [6], 7: [0], 8: [5]})\n",
      "defaultdict(<class 'list'>, {0: [7, 7, 0], 1: [7, 3, 2], 2: [2, 7, 14], 3: [2, 7], 4: [1, 2, 4, 2], 6: [7, 3], 7: [4, 7], 8: [1, 0], 9: [2, 16]})\n",
      "defaultdict(<class 'list'>, {0: [3, 1], 1: [1, 22, 22], 3: [0], 4: [2, 11], 5: [1, 1], 6: [21, 21], 7: [21], 8: [21], 10: [1, 29]})\n",
      "defaultdict(<class 'list'>, {0: [0], 1: [4, 5], 2: [0, 2], 3: [0, 0], 4: [2, 3]})\n",
      "defaultdict(<class 'list'>, {0: [7, 6, 6], 1: [7], 2: [4, 7], 3: [4, 7], 4: [9, 6], 5: [5, 1], 6: [4, 4], 7: [4, 7]})\n",
      "defaultdict(<class 'list'>, {0: [0, 0], 1: [0, 3, 5], 2: [0, 2], 3: [6, 4, 1], 4: [1], 5: [3, 6], 6: [6], 7: [3, 5]})\n",
      "defaultdict(<class 'list'>, {})\n",
      "defaultdict(<class 'list'>, {0: [10, 22], 1: [1, 1], 2: [1, 2], 3: [8, 2, 8], 4: [10, 10, 4, 4], 5: [12, 20], 6: [11, 8], 7: [11, 8], 8: [12, 12], 9: [9, 1], 10: [4, 15], 11: [10], 12: [16, 0]})\n",
      "defaultdict(<class 'list'>, {0: [7, 0, 10, 9], 1: [1, 7], 2: [0], 3: [4, 9], 4: [10, 10], 5: [10], 6: [9, 7]})\n",
      "defaultdict(<class 'list'>, {0: [13, 13, 13, 13], 1: [13], 2: [8, 1], 3: [1, 7], 4: [13, 13], 5: [23, 23], 6: [2, 1], 7: [2, 5], 8: [17, 7], 9: [8, 8], 10: [1, 0], 11: [15, 15], 12: [1, 13], 13: [13, 13]})\n",
      "defaultdict(<class 'list'>, {})\n",
      "defaultdict(<class 'list'>, {0: [0, 3, 9, 3, 5, 11, 1, 14], 1: [9, 9], 2: [6, 1], 3: [0, 10], 4: [1, 11]})\n",
      "defaultdict(<class 'list'>, {0: [0, 0, 0, 0, 0, 0, 0, 16, 16, 4], 1: [0, 0], 2: [1, 1], 3: [0, 1, 8], 4: [17, 1], 5: [4, 8]})\n",
      "defaultdict(<class 'list'>, {0: [2, 3]})\n",
      "defaultdict(<class 'list'>, {0: [5, 5, 0], 1: [5, 5], 2: [2, 5, 0], 3: [3, 7], 4: [5, 7], 5: [5, 0], 6: [5, 4]})\n",
      "defaultdict(<class 'list'>, {2: [6], 3: [3], 4: [7], 5: [7, 7, 7], 8: [3, 3], 9: [0, 0], 10: [0, 3], 12: [6, 3, 6], 13: [6, 3, 3], 14: [3, 3]})\n",
      "defaultdict(<class 'list'>, {0: [0, 4, 0, 0], 1: [0, 0], 2: [5, 4]})\n",
      "defaultdict(<class 'list'>, {0: [4, 4], 1: [7, 8], 2: [2]})\n",
      "defaultdict(<class 'list'>, {0: [3, 3], 1: [2], 2: [3], 3: [6], 4: [5, 14], 5: [3], 6: [1]})\n",
      "defaultdict(<class 'list'>, {0: [0, 0, 0, 0, 0, 0], 1: [12, 19], 2: [17, 1], 3: [4, 1], 4: [7], 5: [4, 1], 6: [11], 7: [14, 14], 8: [12, 0, 2, 12], 9: [0, 0, 0], 10: [12, 0], 11: [1, 12, 0, 0], 12: [12, 0], 13: [0, 0], 14: [13, 5], 15: [13, 13]})\n",
      "defaultdict(<class 'list'>, {0: [3, 1], 1: [3, 1], 2: [3, 2]})\n",
      "defaultdict(<class 'list'>, {0: [7, 7, 7, 7], 1: [4, 4, 7], 2: [7, 7, 7, 7], 3: [7, 4, 3, 4, 1], 4: [0, 0, 9, 6, 6, 2], 5: [5, 5, 5, 7], 6: [6, 7]})\n",
      "defaultdict(<class 'list'>, {0: [3, 1], 1: [6], 2: [5, 0]})\n",
      "defaultdict(<class 'list'>, {0: [9, 2, 9, 9, 0], 1: [1, 1], 2: [9, 9], 3: [4, 1, 1, 10], 4: [1, 7, 11], 5: [9, 9], 6: [2, 8], 7: [9]})\n",
      "defaultdict(<class 'list'>, {0: [14, 11], 1: [8, 8]})\n",
      "defaultdict(<class 'list'>, {0: [9, 5, 5], 1: [5, 5, 7, 5], 2: [5, 5, 5, 5, 5, 5], 3: [3, 11], 4: [9, 5]})\n"
     ]
    }
   ],
   "source": [
    "with open(data_file) as f:\n",
    "    for line in f.readlines():\n",
    "        doc = json.loads(line.strip())\n",
    "        analyze_doc(doc)"
   ]
  }
 ],
 "metadata": {
  "kernelspec": {
   "display_name": "Python [conda env:coref] *",
   "language": "python",
   "name": "conda-env-coref-py"
  },
  "language_info": {
   "codemirror_mode": {
    "name": "ipython",
    "version": 3
   },
   "file_extension": ".py",
   "mimetype": "text/x-python",
   "name": "python",
   "nbconvert_exporter": "python",
   "pygments_lexer": "ipython3",
   "version": "3.6.10"
  }
 },
 "nbformat": 4,
 "nbformat_minor": 4
}
