{
 "cells": [
  {
   "cell_type": "code",
   "execution_count": 25,
   "metadata": {},
   "outputs": [],
   "source": [
    "import os\n",
    "from os import path\n",
    "import glob\n",
    "import pandas as pd\n",
    "import json\n",
    "from collections import defaultdict"
   ]
  },
  {
   "cell_type": "code",
   "execution_count": 26,
   "metadata": {},
   "outputs": [
    {
     "name": "stdout",
     "output_type": "stream",
     "text": [
      "16\n"
     ]
    }
   ],
   "source": [
    "perf_dir = \"/share/data/speech/shtoshni/research/events/models/perf/\"\n",
    "slurm_id = \"5708785\"\n",
    "\n",
    "files = sorted(glob.glob(path.join(perf_dir, slurm_id + \"*\")), key=lambda x: int(path.splitext(path.basename(x))[0].split('_')[1]))\n",
    "print(len(files))"
   ]
  },
  {
   "cell_type": "code",
   "execution_count": 27,
   "metadata": {},
   "outputs": [],
   "source": [
    "model_dict_list = []\n",
    "for file in files:\n",
    "    model_dict_list.append(json.loads(open(file).read()))"
   ]
  },
  {
   "cell_type": "code",
   "execution_count": 28,
   "metadata": {},
   "outputs": [],
   "source": [
    "def determine_varying_attributes(model_dict_list, ignore_attribs=['model_dir', 'train', 'test', 'dev', \n",
    "                                                                  'slurm_id', 'best_model_dir', 'data_dir']):\n",
    "    attrib_to_vals = defaultdict(set)\n",
    "    for model_dict in model_dict_list:\n",
    "        for attrib, val in model_dict.items():\n",
    "            if attrib in ignore_attribs:\n",
    "                continue\n",
    "            else:\n",
    "                attrib_to_vals[attrib].add(val)\n",
    "    \n",
    "    \n",
    "    varying_attribs = []\n",
    "    for attrib, vals in attrib_to_vals.items():\n",
    "        if len(vals) > 1:\n",
    "            varying_attribs.append(attrib)\n",
    "            \n",
    "    return varying_attribs"
   ]
  },
  {
   "cell_type": "code",
   "execution_count": 29,
   "metadata": {},
   "outputs": [],
   "source": [
    "varying_attribs = determine_varying_attributes(model_dict_list)\n",
    "perf_attribs = ['Entity', 'Event', 'Joint']"
   ]
  },
  {
   "cell_type": "code",
   "execution_count": 30,
   "metadata": {},
   "outputs": [],
   "source": [
    "perf_df = pd.DataFrame(columns=(varying_attribs + perf_attribs))\n",
    "\n",
    "for model_dict in model_dict_list:\n",
    "    perf_dict = {}\n",
    "    for attrib in varying_attribs:\n",
    "        perf_dict[attrib] = model_dict[attrib]\n",
    "        \n",
    "    \n",
    "    for perf_attrib in perf_attribs:\n",
    "        if perf_attrib.lower() in model_dict['dev']:\n",
    "            perf_dict[perf_attrib] = round(model_dict['dev'][perf_attrib.lower()]['fscore'], 1)\n",
    "#             print(model_dict['dev'][perf_attrib.lower()]['fscore'])\n",
    "#             print(model_dict['dev'][perf_attrib.lower()])\n",
    "        else:\n",
    "            perf_dict[perf_attrib] = '-'\n",
    "                \n",
    "    perf_df = perf_df.append(perf_dict, ignore_index=True)"
   ]
  },
  {
   "cell_type": "code",
   "execution_count": 31,
   "metadata": {},
   "outputs": [
    {
     "name": "stdout",
     "output_type": "stream",
     "text": [
      "|    | model_size   | proc_strategy   | focus_group   |   ft_lr |   Entity | Event   | Joint   |\n",
      "|---:|:-------------|:----------------|:--------------|--------:|---------:|:--------|:--------|\n",
      "|  0 | base         | duplicate       | joint         |   2e-05 |     73.4 | 55.5    | 65.2    |\n",
      "|  1 | base         | duplicate       | joint         |   3e-05 |     72.6 | 56.1    | 65.1    |\n",
      "|  2 | base         | default         | joint         |   2e-05 |     75.1 | 54.6    | 65.9    |\n",
      "|  3 | base         | default         | joint         |   3e-05 |     73.6 | 55.7    | 65.7    |\n",
      "|  4 | large        | duplicate       | joint         |   2e-05 |     74.2 | 58.7    | 66.6    |\n",
      "|  5 | large        | duplicate       | joint         |   3e-05 |     73.7 | 60.3    | 66.6    |\n",
      "|  6 | large        | default         | joint         |   2e-05 |     73.5 | 58.7    | 66.2    |\n",
      "|  7 | large        | default         | joint         |   3e-05 |     75.3 | 56.0    | 66.6    |\n",
      "|  8 | base         | duplicate       | entity        |   2e-05 |     72.4 | -       | -       |\n",
      "|  9 | base         | duplicate       | entity        |   3e-05 |     73.1 | -       | -       |\n",
      "| 10 | base         | default         | entity        |   2e-05 |     72.7 | -       | -       |\n",
      "| 11 | base         | default         | entity        |   3e-05 |     74.7 | -       | -       |\n",
      "| 12 | large        | duplicate       | entity        |   2e-05 |     73.7 | -       | -       |\n",
      "| 13 | large        | duplicate       | entity        |   3e-05 |     75.3 | -       | -       |\n",
      "| 14 | large        | default         | entity        |   2e-05 |     73.9 | -       | -       |\n",
      "| 15 | large        | default         | entity        |   3e-05 |     75.6 | -       | -       |\n"
     ]
    }
   ],
   "source": [
    "print(perf_df.to_markdown()) \n"
   ]
  },
  {
   "cell_type": "code",
   "execution_count": 32,
   "metadata": {},
   "outputs": [
    {
     "name": "stdout",
     "output_type": "stream",
     "text": [
      ",model_size,proc_strategy,focus_group,ft_lr,Entity,Event,Joint\n",
      "0,base,duplicate,joint,2e-05,73.4,55.5,65.2\n",
      "1,base,duplicate,joint,3e-05,72.6,56.1,65.1\n",
      "2,base,default,joint,2e-05,75.1,54.6,65.9\n",
      "3,base,default,joint,3e-05,73.6,55.7,65.7\n",
      "4,large,duplicate,joint,2e-05,74.2,58.7,66.6\n",
      "5,large,duplicate,joint,3e-05,73.7,60.3,66.6\n",
      "6,large,default,joint,2e-05,73.5,58.7,66.2\n",
      "7,large,default,joint,3e-05,75.3,56.0,66.6\n",
      "8,base,duplicate,entity,2e-05,72.4,-,-\n",
      "9,base,duplicate,entity,3e-05,73.1,-,-\n",
      "10,base,default,entity,2e-05,72.7,-,-\n",
      "11,base,default,entity,3e-05,74.7,-,-\n",
      "12,large,duplicate,entity,2e-05,73.7,-,-\n",
      "13,large,duplicate,entity,3e-05,75.3,-,-\n",
      "14,large,default,entity,2e-05,73.9,-,-\n",
      "15,large,default,entity,3e-05,75.6,-,-\n",
      "\n"
     ]
    }
   ],
   "source": [
    "print(perf_df.to_csv()) \n"
   ]
  }
 ],
 "metadata": {
  "kernelspec": {
   "display_name": "Python [conda env:events] *",
   "language": "python",
   "name": "conda-env-events-py"
  },
  "language_info": {
   "codemirror_mode": {
    "name": "ipython",
    "version": 3
   },
   "file_extension": ".py",
   "mimetype": "text/x-python",
   "name": "python",
   "nbconvert_exporter": "python",
   "pygments_lexer": "ipython3",
   "version": "3.8.3"
  }
 },
 "nbformat": 4,
 "nbformat_minor": 4
}
