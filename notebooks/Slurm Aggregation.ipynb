{
 "cells": [
  {
   "cell_type": "code",
   "execution_count": 121,
   "metadata": {},
   "outputs": [],
   "source": [
    "import os\n",
    "from os import path\n",
    "import glob\n",
    "import pandas as pd\n",
    "import json\n",
    "from collections import defaultdict"
   ]
  },
  {
   "cell_type": "code",
   "execution_count": 122,
   "metadata": {},
   "outputs": [
    {
     "name": "stdout",
     "output_type": "stream",
     "text": [
      "16\n"
     ]
    }
   ],
   "source": [
    "perf_dir = \"/share/data/speech/shtoshni/research/events/models/perf/\"\n",
    "slurm_id = \"5691508\"\n",
    "\n",
    "files = sorted(glob.glob(path.join(perf_dir, slurm_id + \"*\")), key=lambda x: int(path.splitext(path.basename(x))[0].split('_')[1]))\n",
    "print(len(files))"
   ]
  },
  {
   "cell_type": "code",
   "execution_count": 123,
   "metadata": {},
   "outputs": [],
   "source": [
    "model_dict_list = []\n",
    "for file in files:\n",
    "    model_dict_list.append(json.loads(open(file).read()))"
   ]
  },
  {
   "cell_type": "code",
   "execution_count": 124,
   "metadata": {},
   "outputs": [],
   "source": [
    "def determine_varying_attributes(model_dict_list, ignore_attribs=['model_dir', 'train', 'test', 'dev', \n",
    "                                                                  'slurm_id', 'best_model_dir']):\n",
    "    attrib_to_vals = defaultdict(set)\n",
    "    for model_dict in model_dict_list:\n",
    "        for attrib, val in model_dict.items():\n",
    "            if attrib in ignore_attribs:\n",
    "                continue\n",
    "            else:\n",
    "                attrib_to_vals[attrib].add(val)\n",
    "    \n",
    "    \n",
    "    varying_attribs = []\n",
    "    for attrib, vals in attrib_to_vals.items():\n",
    "        if len(vals) > 1:\n",
    "            varying_attribs.append(attrib)\n",
    "            \n",
    "    return varying_attribs"
   ]
  },
  {
   "cell_type": "code",
   "execution_count": 125,
   "metadata": {},
   "outputs": [],
   "source": [
    "varying_attribs = determine_varying_attributes(model_dict_list)\n",
    "perf_attribs = ['Entity', 'Event', 'Joint']"
   ]
  },
  {
   "cell_type": "code",
   "execution_count": 130,
   "metadata": {},
   "outputs": [],
   "source": [
    "perf_df = pd.DataFrame(columns=(varying_attribs + perf_attribs))\n",
    "\n",
    "for model_dict in model_dict_list:\n",
    "    perf_dict = {}\n",
    "    for attrib in varying_attribs:\n",
    "        perf_dict[attrib] = model_dict[attrib]\n",
    "        \n",
    "    \n",
    "    for perf_attrib in perf_attribs:\n",
    "        if perf_attrib.lower() in model_dict['dev']:\n",
    "            perf_dict[perf_attrib] = round(model_dict['dev'][perf_attrib.lower()]['fscore'], 1)\n",
    "#             print(model_dict['dev'][perf_attrib.lower()]['fscore'])\n",
    "#             print(model_dict['dev'][perf_attrib.lower()])\n",
    "        else:\n",
    "            perf_dict[perf_attrib] = '-'\n",
    "                \n",
    "    perf_df = perf_df.append(perf_dict, ignore_index=True)"
   ]
  },
  {
   "cell_type": "code",
   "execution_count": 131,
   "metadata": {},
   "outputs": [
    {
     "name": "stdout",
     "output_type": "stream",
     "text": [
      "|    | model_size   | focus_group   | use_srl   | label_smoothing_other   | Entity   | Event   | Joint   |\n",
      "|---:|:-------------|:--------------|:----------|:------------------------|:---------|:--------|:--------|\n",
      "|  0 | base         | joint         |           | True                    | 71.8     | 57.2    | 64.8    |\n",
      "|  1 | base         | joint         | joint     | True                    | 71.2     | 57.4    | 64.5    |\n",
      "|  2 | base         | joint         |           | False                   | 74.9     | 52.6    | 65.4    |\n",
      "|  3 | base         | joint         | joint     | False                   | 72.7     | 55.0    | 64.9    |\n",
      "|  4 | large        | joint         |           | True                    | 72.8     | 56.4    | 65.1    |\n",
      "|  5 | large        | joint         | joint     | True                    | 73.2     | 56.9    | 65.2    |\n",
      "|  6 | large        | joint         |           | False                   | 74.3     | 60.2    | 66.7    |\n",
      "|  7 | large        | joint         | joint     | False                   | 75.3     | 55.4    | 66.9    |\n",
      "|  8 | base         | entity        |           | True                    | 74.6     | -       | -       |\n",
      "|  9 | base         | entity        |           | False                   | 72.8     | -       | -       |\n",
      "| 10 | large        | entity        |           | True                    | 73.2     | -       | -       |\n",
      "| 11 | large        | entity        |           | False                   | 72.8     | -       | -       |\n",
      "| 12 | base         | event         |           | True                    | -        | 51.3    | -       |\n",
      "| 13 | base         | event         |           | False                   | -        | 51.0    | -       |\n",
      "| 14 | large        | event         |           | True                    | -        | 52.4    | -       |\n",
      "| 15 | large        | event         |           | False                   | -        | 53.3    | -       |\n"
     ]
    }
   ],
   "source": [
    "print(perf_df.to_markdown()) \n"
   ]
  },
  {
   "cell_type": "code",
   "execution_count": 128,
   "metadata": {},
   "outputs": [
    {
     "name": "stdout",
     "output_type": "stream",
     "text": [
      ",model_size,focus_group,use_srl,label_smoothing_other,Entity,Event,Joint\n",
      "0,base,joint,,True,71.78,57.24,64.81\n",
      "1,base,joint,joint,True,71.19,57.4,64.5\n",
      "2,base,joint,,False,74.87,52.59,65.42\n",
      "3,base,joint,joint,False,72.72,55.03,64.9\n",
      "4,large,joint,,True,72.77,56.39,65.06\n",
      "5,large,joint,joint,True,73.15,56.92,65.21\n",
      "6,large,joint,,False,74.33,60.22,66.71\n",
      "7,large,joint,joint,False,75.33,55.36,66.88\n",
      "8,base,entity,,True,74.63,-,-\n",
      "9,base,entity,,False,72.83,-,-\n",
      "10,large,entity,,True,73.18,-,-\n",
      "11,large,entity,,False,72.77,-,-\n",
      "12,base,event,,True,-,51.29,-\n",
      "13,base,event,,False,-,51.05,-\n",
      "14,large,event,,True,-,52.4,-\n",
      "15,large,event,,False,-,53.31,-\n",
      "\n"
     ]
    }
   ],
   "source": [
    "print(perf_df.to_csv()) \n"
   ]
  }
 ],
 "metadata": {
  "kernelspec": {
   "display_name": "Python [conda env:events] *",
   "language": "python",
   "name": "conda-env-events-py"
  },
  "language_info": {
   "codemirror_mode": {
    "name": "ipython",
    "version": 3
   },
   "file_extension": ".py",
   "mimetype": "text/x-python",
   "name": "python",
   "nbconvert_exporter": "python",
   "pygments_lexer": "ipython3",
   "version": "3.8.3"
  }
 },
 "nbformat": 4,
 "nbformat_minor": 4
}
