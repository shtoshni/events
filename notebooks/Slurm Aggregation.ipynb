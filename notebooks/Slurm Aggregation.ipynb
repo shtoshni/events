{
 "cells": [
  {
   "cell_type": "code",
   "execution_count": 17,
   "metadata": {},
   "outputs": [],
   "source": [
    "import os\n",
    "from os import path\n",
    "import glob\n",
    "import pandas as pd\n",
    "import json\n",
    "from collections import defaultdict"
   ]
  },
  {
   "cell_type": "code",
   "execution_count": 18,
   "metadata": {},
   "outputs": [
    {
     "name": "stdout",
     "output_type": "stream",
     "text": [
      "20\n"
     ]
    }
   ],
   "source": [
    "perf_dir = \"/share/data/speech/shtoshni/research/events/models/perf/\"\n",
    "slurm_id = \"5704576\"\n",
    "\n",
    "files = sorted(glob.glob(path.join(perf_dir, slurm_id + \"*\")), key=lambda x: int(path.splitext(path.basename(x))[0].split('_')[1]))\n",
    "print(len(files))"
   ]
  },
  {
   "cell_type": "code",
   "execution_count": 19,
   "metadata": {},
   "outputs": [],
   "source": [
    "model_dict_list = []\n",
    "for file in files:\n",
    "    model_dict_list.append(json.loads(open(file).read()))"
   ]
  },
  {
   "cell_type": "code",
   "execution_count": 20,
   "metadata": {},
   "outputs": [],
   "source": [
    "def determine_varying_attributes(model_dict_list, ignore_attribs=['model_dir', 'train', 'test', 'dev', \n",
    "                                                                  'slurm_id', 'best_model_dir']):\n",
    "    attrib_to_vals = defaultdict(set)\n",
    "    for model_dict in model_dict_list:\n",
    "        for attrib, val in model_dict.items():\n",
    "            if attrib in ignore_attribs:\n",
    "                continue\n",
    "            else:\n",
    "                attrib_to_vals[attrib].add(val)\n",
    "    \n",
    "    \n",
    "    varying_attribs = []\n",
    "    for attrib, vals in attrib_to_vals.items():\n",
    "        if len(vals) > 1:\n",
    "            varying_attribs.append(attrib)\n",
    "            \n",
    "    return varying_attribs"
   ]
  },
  {
   "cell_type": "code",
   "execution_count": 21,
   "metadata": {},
   "outputs": [],
   "source": [
    "varying_attribs = determine_varying_attributes(model_dict_list)\n",
    "perf_attribs = ['Entity', 'Event', 'Joint']"
   ]
  },
  {
   "cell_type": "code",
   "execution_count": 22,
   "metadata": {},
   "outputs": [],
   "source": [
    "perf_df = pd.DataFrame(columns=(varying_attribs + perf_attribs))\n",
    "\n",
    "for model_dict in model_dict_list:\n",
    "    perf_dict = {}\n",
    "    for attrib in varying_attribs:\n",
    "        perf_dict[attrib] = model_dict[attrib]\n",
    "        \n",
    "    \n",
    "    for perf_attrib in perf_attribs:\n",
    "        if perf_attrib.lower() in model_dict['dev']:\n",
    "            perf_dict[perf_attrib] = round(model_dict['dev'][perf_attrib.lower()]['fscore'], 1)\n",
    "#             print(model_dict['dev'][perf_attrib.lower()]['fscore'])\n",
    "#             print(model_dict['dev'][perf_attrib.lower()])\n",
    "        else:\n",
    "            perf_dict[perf_attrib] = '-'\n",
    "                \n",
    "    perf_df = perf_df.append(perf_dict, ignore_index=True)"
   ]
  },
  {
   "cell_type": "code",
   "execution_count": 23,
   "metadata": {},
   "outputs": [
    {
     "name": "stdout",
     "output_type": "stream",
     "text": [
      "|    | model_size   | focus_group   |   mlp_size | use_srl   | Entity   | Event   | Joint   |\n",
      "|---:|:-------------|:--------------|-----------:|:----------|:---------|:--------|:--------|\n",
      "|  0 | base         | joint         |       1024 |           | 73.4     | 54.7    | 65.5    |\n",
      "|  1 | base         | joint         |       1024 | event     | 73.9     | 53.4    | 64.9    |\n",
      "|  2 | base         | joint         |       1024 | joint     | 72.3     | 54.4    | 64.0    |\n",
      "|  3 | base         | joint         |       2048 |           | 74.0     | 54.0    | 65.0    |\n",
      "|  4 | base         | joint         |       2048 | event     | 73.2     | 56.6    | 65.4    |\n",
      "|  5 | base         | joint         |       2048 | joint     | 71.7     | 56.4    | 64.6    |\n",
      "|  6 | large        | joint         |       1024 |           | 74.4     | 52.5    | 65.3    |\n",
      "|  7 | large        | joint         |       1024 | event     | 74.5     | 56.0    | 66.2    |\n",
      "|  8 | large        | joint         |       1024 | joint     | 72.4     | 54.6    | 64.2    |\n",
      "|  9 | large        | joint         |       2048 |           | 74.3     | 55.5    | 66.0    |\n",
      "| 10 | large        | joint         |       2048 | event     | 72.2     | 56.6    | 64.9    |\n",
      "| 11 | large        | joint         |       2048 | joint     | 72.9     | 56.9    | 65.9    |\n",
      "| 12 | base         | entity        |       1024 |           | 73.6     | -       | -       |\n",
      "| 13 | base         | entity        |       2048 |           | 74.2     | -       | -       |\n",
      "| 14 | large        | entity        |       1024 |           | 72.3     | -       | -       |\n",
      "| 15 | large        | entity        |       2048 |           | 72.7     | -       | -       |\n",
      "| 16 | base         | event         |       1024 |           | -        | 50.6    | -       |\n",
      "| 17 | base         | event         |       2048 |           | -        | 51.8    | -       |\n",
      "| 18 | large        | event         |       1024 |           | -        | 53.7    | -       |\n",
      "| 19 | large        | event         |       2048 |           | -        | 55.3    | -       |\n"
     ]
    }
   ],
   "source": [
    "print(perf_df.to_markdown()) \n"
   ]
  },
  {
   "cell_type": "code",
   "execution_count": 24,
   "metadata": {},
   "outputs": [
    {
     "name": "stdout",
     "output_type": "stream",
     "text": [
      ",model_size,focus_group,mlp_size,use_srl,Entity,Event,Joint\n",
      "0,base,joint,1024,,73.4,54.7,65.5\n",
      "1,base,joint,1024,event,73.9,53.4,64.9\n",
      "2,base,joint,1024,joint,72.3,54.4,64.0\n",
      "3,base,joint,2048,,74.0,54.0,65.0\n",
      "4,base,joint,2048,event,73.2,56.6,65.4\n",
      "5,base,joint,2048,joint,71.7,56.4,64.6\n",
      "6,large,joint,1024,,74.4,52.5,65.3\n",
      "7,large,joint,1024,event,74.5,56.0,66.2\n",
      "8,large,joint,1024,joint,72.4,54.6,64.2\n",
      "9,large,joint,2048,,74.3,55.5,66.0\n",
      "10,large,joint,2048,event,72.2,56.6,64.9\n",
      "11,large,joint,2048,joint,72.9,56.9,65.9\n",
      "12,base,entity,1024,,73.6,-,-\n",
      "13,base,entity,2048,,74.2,-,-\n",
      "14,large,entity,1024,,72.3,-,-\n",
      "15,large,entity,2048,,72.7,-,-\n",
      "16,base,event,1024,,-,50.6,-\n",
      "17,base,event,2048,,-,51.8,-\n",
      "18,large,event,1024,,-,53.7,-\n",
      "19,large,event,2048,,-,55.3,-\n",
      "\n"
     ]
    }
   ],
   "source": [
    "print(perf_df.to_csv()) \n"
   ]
  }
 ],
 "metadata": {
  "kernelspec": {
   "display_name": "Python [conda env:events] *",
   "language": "python",
   "name": "conda-env-events-py"
  },
  "language_info": {
   "codemirror_mode": {
    "name": "ipython",
    "version": 3
   },
   "file_extension": ".py",
   "mimetype": "text/x-python",
   "name": "python",
   "nbconvert_exporter": "python",
   "pygments_lexer": "ipython3",
   "version": "3.8.3"
  }
 },
 "nbformat": 4,
 "nbformat_minor": 4
}
