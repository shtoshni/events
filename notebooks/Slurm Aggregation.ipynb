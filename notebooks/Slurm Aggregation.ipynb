{
 "cells": [
  {
   "cell_type": "code",
   "execution_count": 17,
   "metadata": {},
   "outputs": [],
   "source": [
    "import os\n",
    "from os import path\n",
    "import glob\n",
    "import pandas as pd\n",
    "import json\n",
    "from collections import defaultdict"
   ]
  },
  {
   "cell_type": "code",
   "execution_count": 18,
   "metadata": {},
   "outputs": [
    {
     "name": "stdout",
     "output_type": "stream",
     "text": [
      "24\n"
     ]
    }
   ],
   "source": [
    "perf_dir = \"/share/data/speech/shtoshni/research/events/models/perf/\"\n",
    "slurm_id = \"5708281\"\n",
    "\n",
    "files = sorted(glob.glob(path.join(perf_dir, slurm_id + \"*\")), key=lambda x: int(path.splitext(path.basename(x))[0].split('_')[1]))\n",
    "print(len(files))"
   ]
  },
  {
   "cell_type": "code",
   "execution_count": 19,
   "metadata": {},
   "outputs": [],
   "source": [
    "model_dict_list = []\n",
    "for file in files:\n",
    "    model_dict_list.append(json.loads(open(file).read()))"
   ]
  },
  {
   "cell_type": "code",
   "execution_count": 20,
   "metadata": {},
   "outputs": [],
   "source": [
    "def determine_varying_attributes(model_dict_list, ignore_attribs=['model_dir', 'train', 'test', 'dev', \n",
    "                                                                  'slurm_id', 'best_model_dir', 'data_dir']):\n",
    "    attrib_to_vals = defaultdict(set)\n",
    "    for model_dict in model_dict_list:\n",
    "        for attrib, val in model_dict.items():\n",
    "            if attrib in ignore_attribs:\n",
    "                continue\n",
    "            else:\n",
    "                attrib_to_vals[attrib].add(val)\n",
    "    \n",
    "    \n",
    "    varying_attribs = []\n",
    "    for attrib, vals in attrib_to_vals.items():\n",
    "        if len(vals) > 1:\n",
    "            varying_attribs.append(attrib)\n",
    "            \n",
    "    return varying_attribs"
   ]
  },
  {
   "cell_type": "code",
   "execution_count": 21,
   "metadata": {},
   "outputs": [],
   "source": [
    "varying_attribs = determine_varying_attributes(model_dict_list)\n",
    "perf_attribs = ['Entity', 'Event', 'Joint']"
   ]
  },
  {
   "cell_type": "code",
   "execution_count": 22,
   "metadata": {},
   "outputs": [],
   "source": [
    "perf_df = pd.DataFrame(columns=(varying_attribs + perf_attribs))\n",
    "\n",
    "for model_dict in model_dict_list:\n",
    "    perf_dict = {}\n",
    "    for attrib in varying_attribs:\n",
    "        perf_dict[attrib] = model_dict[attrib]\n",
    "        \n",
    "    \n",
    "    for perf_attrib in perf_attribs:\n",
    "        if perf_attrib.lower() in model_dict['dev']:\n",
    "            perf_dict[perf_attrib] = round(model_dict['dev'][perf_attrib.lower()]['fscore'], 1)\n",
    "#             print(model_dict['dev'][perf_attrib.lower()]['fscore'])\n",
    "#             print(model_dict['dev'][perf_attrib.lower()])\n",
    "        else:\n",
    "            perf_dict[perf_attrib] = '-'\n",
    "                \n",
    "    perf_df = perf_df.append(perf_dict, ignore_index=True)"
   ]
  },
  {
   "cell_type": "code",
   "execution_count": 23,
   "metadata": {},
   "outputs": [
    {
     "name": "stdout",
     "output_type": "stream",
     "text": [
      "|    | model_size   | proc_strategy   | focus_group   |   ft_lr |   Entity | Event   | Joint   |\n",
      "|---:|:-------------|:----------------|:--------------|--------:|---------:|:--------|:--------|\n",
      "|  0 | base         | duplicate       | joint         |   2e-05 |     73.3 | 53.0    | 64.6    |\n",
      "|  1 | base         | duplicate       | joint         |   3e-05 |     73.7 | 56.4    | 66.1    |\n",
      "|  2 | base         | duplicate       | joint         |   5e-05 |     73.6 | 56.7    | 65.9    |\n",
      "|  3 | base         | default         | joint         |   2e-05 |     72.7 | 55.2    | 64.7    |\n",
      "|  4 | base         | default         | joint         |   3e-05 |     73.3 | 54.7    | 64.8    |\n",
      "|  5 | base         | default         | joint         |   5e-05 |     74   | 55.3    | 65.5    |\n",
      "|  6 | large        | duplicate       | joint         |   2e-05 |     74.5 | 59.4    | 67.1    |\n",
      "|  7 | large        | duplicate       | joint         |   3e-05 |     72.1 | 61.2    | 65.8    |\n",
      "|  8 | large        | duplicate       | joint         |   5e-05 |     72.6 | 53.5    | 64.1    |\n",
      "|  9 | large        | default         | joint         |   2e-05 |     73.3 | 61.5    | 67.0    |\n",
      "| 10 | large        | default         | joint         |   3e-05 |     74.5 | 58.9    | 66.9    |\n",
      "| 11 | large        | default         | joint         |   5e-05 |     74.1 | 55.8    | 65.8    |\n",
      "| 12 | base         | duplicate       | entity        |   2e-05 |     72.7 | -       | -       |\n",
      "| 13 | base         | duplicate       | entity        |   3e-05 |     74.1 | -       | -       |\n",
      "| 14 | base         | duplicate       | entity        |   5e-05 |     72.9 | -       | -       |\n",
      "| 15 | base         | default         | entity        |   2e-05 |     73.3 | -       | -       |\n",
      "| 16 | base         | default         | entity        |   3e-05 |     73.2 | -       | -       |\n",
      "| 17 | base         | default         | entity        |   5e-05 |     71.3 | -       | -       |\n",
      "| 18 | large        | duplicate       | entity        |   2e-05 |     73.9 | -       | -       |\n",
      "| 19 | large        | duplicate       | entity        |   3e-05 |     73.3 | -       | -       |\n",
      "| 20 | large        | duplicate       | entity        |   5e-05 |     73.4 | -       | -       |\n",
      "| 21 | large        | default         | entity        |   2e-05 |     73.6 | -       | -       |\n",
      "| 22 | large        | default         | entity        |   3e-05 |     72.3 | -       | -       |\n",
      "| 23 | large        | default         | entity        |   5e-05 |     72.7 | -       | -       |\n"
     ]
    }
   ],
   "source": [
    "print(perf_df.to_markdown()) \n"
   ]
  },
  {
   "cell_type": "code",
   "execution_count": 24,
   "metadata": {},
   "outputs": [
    {
     "name": "stdout",
     "output_type": "stream",
     "text": [
      ",model_size,proc_strategy,focus_group,ft_lr,Entity,Event,Joint\n",
      "0,base,duplicate,joint,2e-05,73.3,53.0,64.6\n",
      "1,base,duplicate,joint,3e-05,73.7,56.4,66.1\n",
      "2,base,duplicate,joint,5e-05,73.6,56.7,65.9\n",
      "3,base,default,joint,2e-05,72.7,55.2,64.7\n",
      "4,base,default,joint,3e-05,73.3,54.7,64.8\n",
      "5,base,default,joint,5e-05,74.0,55.3,65.5\n",
      "6,large,duplicate,joint,2e-05,74.5,59.4,67.1\n",
      "7,large,duplicate,joint,3e-05,72.1,61.2,65.8\n",
      "8,large,duplicate,joint,5e-05,72.6,53.5,64.1\n",
      "9,large,default,joint,2e-05,73.3,61.5,67.0\n",
      "10,large,default,joint,3e-05,74.5,58.9,66.9\n",
      "11,large,default,joint,5e-05,74.1,55.8,65.8\n",
      "12,base,duplicate,entity,2e-05,72.7,-,-\n",
      "13,base,duplicate,entity,3e-05,74.1,-,-\n",
      "14,base,duplicate,entity,5e-05,72.9,-,-\n",
      "15,base,default,entity,2e-05,73.3,-,-\n",
      "16,base,default,entity,3e-05,73.2,-,-\n",
      "17,base,default,entity,5e-05,71.3,-,-\n",
      "18,large,duplicate,entity,2e-05,73.9,-,-\n",
      "19,large,duplicate,entity,3e-05,73.3,-,-\n",
      "20,large,duplicate,entity,5e-05,73.4,-,-\n",
      "21,large,default,entity,2e-05,73.6,-,-\n",
      "22,large,default,entity,3e-05,72.3,-,-\n",
      "23,large,default,entity,5e-05,72.7,-,-\n",
      "\n"
     ]
    }
   ],
   "source": [
    "print(perf_df.to_csv()) \n"
   ]
  }
 ],
 "metadata": {
  "kernelspec": {
   "display_name": "Python [conda env:events] *",
   "language": "python",
   "name": "conda-env-events-py"
  },
  "language_info": {
   "codemirror_mode": {
    "name": "ipython",
    "version": 3
   },
   "file_extension": ".py",
   "mimetype": "text/x-python",
   "name": "python",
   "nbconvert_exporter": "python",
   "pygments_lexer": "ipython3",
   "version": "3.8.3"
  }
 },
 "nbformat": 4,
 "nbformat_minor": 4
}
