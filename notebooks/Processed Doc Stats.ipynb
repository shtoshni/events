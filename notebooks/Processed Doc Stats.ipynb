{
 "cells": [
  {
   "cell_type": "code",
   "execution_count": 32,
   "metadata": {},
   "outputs": [],
   "source": [
    "import json\n",
    "from os import path\n",
    "import matplotlib.pyplot as plt\n",
    "from collections import Counter, defaultdict\n",
    "\n",
    "import sys\n",
    "sys.path.append(\"/home/shtoshni/Research/events/src\")\n",
    "\n",
    "from red_utils.constants import IDX_TO_ELEM_TYPE, ELEM_TYPE_TO_IDX"
   ]
  },
  {
   "cell_type": "code",
   "execution_count": 33,
   "metadata": {},
   "outputs": [],
   "source": [
    "train_file_path = \"/home/shtoshni/Research/events/proc_data/red/ment_det/independent/train.512.jsonlines\"\n",
    "train_data = []\n",
    "with open(train_file_path) as f:\n",
    "    for line in f:\n",
    "        train_data.append(json.loads(line.strip()))"
   ]
  },
  {
   "cell_type": "markdown",
   "metadata": {},
   "source": [
    "### Get mention to doc len ratio"
   ]
  },
  {
   "cell_type": "code",
   "execution_count": 34,
   "metadata": {},
   "outputs": [],
   "source": [
    "span_type_to_len_ratio_list = defaultdict(list)\n",
    "\n",
    "for instance in train_data:\n",
    "    doc_len = sum([len(sentence) for sentence in instance[\"sentences\"]])\n",
    "    \n",
    "    for elem_type, elem_idx in ELEM_TYPE_TO_IDX.items():\n",
    "        num_mentions = sum([1 for _, _, ment_type in instance[\"mentions\"] if ment_type == elem_idx])\n",
    "        span_type_to_len_ratio_list[elem_type].append(num_mentions/doc_len)\n"
   ]
  },
  {
   "cell_type": "code",
   "execution_count": 37,
   "metadata": {},
   "outputs": [
    {
     "data": {
      "image/png": "[encoded data removed]",
      "text/plain": [
       "<Figure size 432x288 with 1 Axes>"
      ]
     },
     "metadata": {
      "needs_background": "light"
     },
     "output_type": "display_data"
    },
    {
     "data": {
      "image/png": "[encoded data removed]",
      "text/plain": [
       "<Figure size 432x288 with 1 Axes>"
      ]
     },
     "metadata": {
      "needs_background": "light"
     },
     "output_type": "display_data"
    },
    {
     "data": {
      "image/png": "[encoded data removed]",
      "text/plain": [
       "<Figure size 432x288 with 1 Axes>"
      ]
     },
     "metadata": {
      "needs_background": "light"
     },
     "output_type": "display_data"
    }
   ],
   "source": [
    "for elem_type in ELEM_TYPE_TO_IDX:\n",
    "    if elem_type == 'BOTH':\n",
    "        continue\n",
    "    plt.hist(span_type_to_len_ratio_list[elem_type])\n",
    "    plt.show()"
   ]
  },
  {
   "cell_type": "markdown",
   "metadata": {},
   "source": [
    "### Get mention type counts"
   ]
  },
  {
   "cell_type": "code",
   "execution_count": 36,
   "metadata": {},
   "outputs": [
    {
     "name": "stdout",
     "output_type": "stream",
     "text": [
      "Counter({'ENTITY': 8102, 'EVENT': 7027, 'TIMEX3': 696})\n",
      "15802 15825\n",
      "15821 15825\n"
     ]
    },
    {
     "data": {
      "image/png": "[encoded data removed]",
      "text/plain": [
       "<Figure size 432x288 with 1 Axes>"
      ]
     },
     "metadata": {
      "needs_background": "light"
     },
     "output_type": "display_data"
    }
   ],
   "source": [
    "span_type_count = Counter()\n",
    "span_widths = []\n",
    "\n",
    "for instance in train_data:\n",
    "    for span_start, span_end, span_type in instance[\"mentions\"]:\n",
    "        span_type_count[IDX_TO_ELEM_TYPE[span_type]] += 1\n",
    "        span_widths.append(span_end - span_start + 1)\n",
    "        \n",
    "print(span_type_count)\n",
    "\n",
    "\n",
    "plt.hist(span_widths)\n",
    "import numpy as np\n",
    "print(sum(np.array(span_widths) <= 10), len(span_widths))\n",
    "print(sum(np.array(span_widths) <= 15), len(span_widths))"
   ]
  }
 ],
 "metadata": {
  "kernelspec": {
   "display_name": "Python [conda env:events] *",
   "language": "python",
   "name": "conda-env-events-py"
  },
  "language_info": {
   "codemirror_mode": {
    "name": "ipython",
    "version": 3
   },
   "file_extension": ".py",
   "mimetype": "text/x-python",
   "name": "python",
   "nbconvert_exporter": "python",
   "pygments_lexer": "ipython3",
   "version": "3.8.3"
  }
 },
 "nbformat": 4,
 "nbformat_minor": 4
}
