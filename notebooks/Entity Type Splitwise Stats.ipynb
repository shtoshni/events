{
 "cells": [
  {
   "cell_type": "code",
   "execution_count": 1,
   "metadata": {},
   "outputs": [],
   "source": [
    "import xml\n",
    "import xml.etree.ElementTree as ET\n",
    "import os\n",
    "from os import path\n",
    "import glob\n",
    "from collections import defaultdict, Counter, OrderedDict\n",
    "import numpy as np\n",
    "\n",
    "from utils import get_ent_info, get_clusters_from_xml\n",
    "from plot_utils import initialize_bar_plot\n",
    "\n",
    "import matplotlib.pyplot as plt\n",
    "import numpy as np\n",
    "\n",
    "# Change Matplotlib Parameters\n",
    "plt.rc('text', usetex=True)  # Setting to use latex font; may require installing the TeX fonts\n",
    "plt.rc('axes', labelcolor='b', edgecolor='k', \n",
    "       labelsize=18, titlesize=18)\n",
    "plt.rcParams['font.size'] = 14\n",
    "plt.rcParams['xtick.labelsize'] =16\n",
    "plt.rcParams['ytick.labelsize'] =16"
   ]
  },
  {
   "cell_type": "code",
   "execution_count": 2,
   "metadata": {},
   "outputs": [],
   "source": [
    "root_dir = \"/home/shtoshni/Research/events/data/red/\"\n",
    "source_dir = path.join(root_dir, \"data/source\")\n",
    "source_files = glob.glob(\"{}/*/*\".format(source_dir))\n",
    "\n",
    "ann_dir = path.join(root_dir, \"data/mod_annotation\")\n",
    "ann_files = glob.glob(\"{}/*/*\".format(ann_dir))\n",
    "\n",
    "split_types = [\"train\", \"dev\", \"test\"]"
   ]
  },
  {
   "cell_type": "code",
   "execution_count": 3,
   "metadata": {},
   "outputs": [],
   "source": [
    "def get_all_ent_info(xml_root):\n",
    "    \"\"\"Given the root of elment tree, returns the entity and events.\"\"\"\n",
    "    ent_map = {}\n",
    "    ent_list = []\n",
    "\n",
    "    for elem in xml_root.iter('entity'):\n",
    "        span_str = list(elem.iter('span'))[0].text\n",
    "        span_start, span_end = [int(endpoint) for endpoint in span_str.split(\",\")]\n",
    "        elem_id = list(elem.iter('id'))[0].text\n",
    "        elem_type = list(elem.iter('type'))[0].text\n",
    "\n",
    "        ent_map[elem_id] = (elem_type, (span_start, span_end))\n",
    "        ent_list.append([(span_start, span_end), elem_id])\n",
    "    \n",
    "    assert(len(ent_list) == len(ent_map))\n",
    "    # Sort entity list on the basis of span start index\n",
    "    ent_list = sorted(ent_list, key=lambda x: x[0][0])\n",
    "\n",
    "    return ent_map, ent_list"
   ]
  },
  {
   "cell_type": "markdown",
   "metadata": {},
   "source": [
    "### Next load list of files in each split "
   ]
  },
  {
   "cell_type": "code",
   "execution_count": 5,
   "metadata": {},
   "outputs": [],
   "source": [
    "def prefix_to_data_files(split_files):\n",
    "    source_files, annotation_files = [], []\n",
    "    for split_file in split_files:\n",
    "        source_files.append(path.join(source_dir, split_file))\n",
    "        annotation_files.append(path.join(ann_dir, split_file) + \".RED-Relation.gold.completed.xml\")\n",
    "        \n",
    "    return source_files, annotation_files"
   ]
  },
  {
   "cell_type": "code",
   "execution_count": 6,
   "metadata": {},
   "outputs": [],
   "source": [
    "split_info_dir = path.join(root_dir, \"docs\")\n",
    "\n",
    "split_to_file_list = OrderedDict()\n",
    "for split in split_types:\n",
    "    split_list_file = path.join(split_info_dir, f'{split}.txt')\n",
    "    split_files = set([file_name.strip() for file_name in open(split_list_file).readlines()])\n",
    "    split_to_file_list[split] = split_files"
   ]
  },
  {
   "cell_type": "markdown",
   "metadata": {},
   "source": [
    "### Stat function"
   ]
  },
  {
   "cell_type": "code",
   "execution_count": 26,
   "metadata": {},
   "outputs": [],
   "source": [
    "def get_stats(source_files, annotation_files, split=\"train\"):\n",
    "    span_width = []\n",
    "    elem_type_count = OrderedDict()\n",
    "    \n",
    "    for (source_file, annotation_file) in zip(source_files, annotation_files):\n",
    "        # Read the source document\n",
    "        doc_str = \"\".join(open(source_file).readlines())\n",
    "\n",
    "        # Parse the XML\n",
    "        tree = ET.parse(annotation_file)\n",
    "        root = tree.getroot()\n",
    "\n",
    "        # Get entity and cluster information from the annotation file\n",
    "        ent_map, ent_list = get_all_ent_info(root)\n",
    "        \n",
    "        for (elem_id, (elem_type, (span_start, span_end))) in ent_map.items():\n",
    "            if elem_type not in elem_type_count:\n",
    "                elem_type_count[elem_type] = 0\n",
    "            elem_type_count[elem_type] += 1\n",
    "        \n",
    "            \n",
    "    def bar_plot(labels, counts, xlim=None, title=None):\n",
    "        fig, ax = initialize_bar_plot()\n",
    "\n",
    "        bar_width=0.3\n",
    "        cur_bar = ax.bar(bar_width + np.arange(len(labels)), counts,\n",
    "                      color=['teal', 'r'], width=bar_width, alpha=0.6)\n",
    "        plt.xticks(np.arange(len(labels)) + bar_width, labels, rotation=0) \n",
    "\n",
    "        for rect, height, label in zip(cur_bar, counts, labels):\n",
    "            label = f'{height}'\n",
    "            ax.text(rect.get_x() + rect.get_width()/2, height + 0.25, label, ha='center', va='bottom')\n",
    "        \n",
    "        if xlim is not None:\n",
    "            plt.xlim(*xlim)\n",
    "            \n",
    "        if title is not None:\n",
    "            plt.title(title)\n",
    "            \n",
    "        plt.xticks(rotation=45)\n",
    "        plt.show()\n",
    "        \n",
    "\n",
    "    # Span type\n",
    "    labels, counts = zip(*sorted(list(elem_type_count.items())))\n",
    "    bar_plot(labels, counts)\n",
    "        \n",
    "        "
   ]
  },
  {
   "cell_type": "markdown",
   "metadata": {},
   "source": [
    "### Train Stats"
   ]
  },
  {
   "cell_type": "code",
   "execution_count": 27,
   "metadata": {},
   "outputs": [
    {
     "data": {
      "image/png": "[encoded data removed]",
      "text/plain": [
       "<Figure size 432x288 with 1 Axes>"
      ]
     },
     "metadata": {
      "needs_background": "light"
     },
     "output_type": "display_data"
    }
   ],
   "source": [
    "source_files, annotation_files = prefix_to_data_files(split_to_file_list[\"train\"])\n",
    "get_stats(source_files, annotation_files, split=\"train\")"
   ]
  },
  {
   "cell_type": "markdown",
   "metadata": {},
   "source": [
    "### Dev stats"
   ]
  },
  {
   "cell_type": "code",
   "execution_count": 28,
   "metadata": {},
   "outputs": [
    {
     "data": {
      "image/png": "[encoded data removed]",
      "text/plain": [
       "<Figure size 432x288 with 1 Axes>"
      ]
     },
     "metadata": {
      "needs_background": "light"
     },
     "output_type": "display_data"
    }
   ],
   "source": [
    "source_files, annotation_files = prefix_to_data_files(split_to_file_list[\"dev\"])\n",
    "get_stats(source_files, annotation_files, split=\"dev\")"
   ]
  }
 ],
 "metadata": {
  "kernelspec": {
   "display_name": "Python [conda env:events] *",
   "language": "python",
   "name": "conda-env-events-py"
  },
  "language_info": {
   "codemirror_mode": {
    "name": "ipython",
    "version": 3
   },
   "file_extension": ".py",
   "mimetype": "text/x-python",
   "name": "python",
   "nbconvert_exporter": "python",
   "pygments_lexer": "ipython3",
   "version": "3.8.3"
  }
 },
 "nbformat": 4,
 "nbformat_minor": 4
}
