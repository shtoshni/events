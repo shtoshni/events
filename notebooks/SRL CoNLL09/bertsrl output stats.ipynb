{
 "cells": [
  {
   "cell_type": "code",
   "execution_count": 91,
   "metadata": {},
   "outputs": [],
   "source": [
    "import json\n",
    "from os import path\n",
    "from collections import defaultdict\n",
    "import os"
   ]
  },
  {
   "cell_type": "code",
   "execution_count": null,
   "metadata": {},
   "outputs": [],
   "source": []
  },
  {
   "cell_type": "code",
   "execution_count": 92,
   "metadata": {},
   "outputs": [],
   "source": [
    "def get_token_to_pred(seq_words, bio_tags):\n",
    "    bio_tags = bio_tags[1:-1]\n",
    "    token_idx = 0\n",
    "    word_tag_pair = []\n",
    "    for tag in bio_tags:\n",
    "        if tag == 'X':\n",
    "            continue\n",
    "        else:\n",
    "            word_tag_pair.append((seq_words[token_idx], tag))\n",
    "            token_idx += 1\n",
    "    assert (len(word_tag_pair) == len(seq_words))\n",
    "    \n",
    "    return word_tag_pair"
   ]
  },
  {
   "cell_type": "code",
   "execution_count": 93,
   "metadata": {},
   "outputs": [],
   "source": [
    "def get_tag_to_token_indices(word_tag_pair):\n",
    "    tag_to_token_indices = defaultdict(list)\n",
    "    for word_idx, (word, tag) in enumerate(word_tag_pair): \n",
    "        if tag == 'O':\n",
    "            continue\n",
    "#         if 'N-' in tag:\n",
    "#             tag = tag.replace('N-', '')\n",
    "        tag_to_token_indices[tag].append(word_idx)\n",
    "        \n",
    "    return tag_to_token_indices"
   ]
  },
  {
   "cell_type": "code",
   "execution_count": 100,
   "metadata": {},
   "outputs": [],
   "source": [
    "def process_split(input_dir, output_dir, split='train'):\n",
    "    split_file = f'{split}.jsonl'\n",
    "    input_file = path.join(input_dir, split_file)\n",
    "    output_file = path.join(output_dir, split_file)\n",
    "    \n",
    "    tag_stats = defaultdict(int)\n",
    "    coverage = 0\n",
    "    total_sent = 0\n",
    "    \n",
    "    output_dict = {}\n",
    "    with open(input_file) as f:\n",
    "        for line in f.readlines():\n",
    "            instance = json.loads(line.strip())\n",
    "            word_tag_pair = get_token_to_pred(instance[\"seq_words\"], instance[\"BIO\"])\n",
    "            tag_to_token_indices = get_tag_to_token_indices(word_tag_pair)\n",
    "            \n",
    "            pred_sense = instance['pred_sense']\n",
    "            total_sent += 1\n",
    "\n",
    "            if len(tag_to_token_indices):   \n",
    "                found_pred = False\n",
    "                for tag in tag_to_token_indices:\n",
    "                    if (tag == 'V' or '-V' in tag) and (pred_sense[0] in tag_to_token_indices[tag]):\n",
    "                        found_pred = True\n",
    "                        break\n",
    "                \n",
    "                if found_pred:\n",
    "                    coverage += 1\n",
    "                    for tag in tag_to_token_indices:\n",
    "                        tag_stats[tag] += 1\n",
    "                    \n",
    "                    # JSON doesn't accept tuple as key, hence the funny encoding\n",
    "                    output_dict[\" \".join(instance[\"seq_words\"]) + \"\\t\" + str(pred_sense[0])] = {'tag_dict': tag_to_token_indices}\n",
    "                    \n",
    "#                 else:\n",
    "#                     print(instance)\n",
    "            \n",
    "    with open(output_file, 'w') as output_f:\n",
    "        print(len(output_dict))\n",
    "        output_f.write(json.dumps(output_dict))\n",
    "    \n",
    "    print(coverage, total_sent, round(coverage/total_sent, 3))\n",
    "    if split == 'train':\n",
    "        print(sorted(list(tag_stats.items()), key=lambda x: x[1], reverse=True))"
   ]
  },
  {
   "cell_type": "code",
   "execution_count": 101,
   "metadata": {},
   "outputs": [
    {
     "name": "stdout",
     "output_type": "stream",
     "text": [
      "3828\n",
      "4846 4880 0.993\n",
      "[('A1', 3310), ('V', 2832), ('A0', 2433), ('N-V', 1809), ('A2', 1008), ('AM-TMP', 735), ('AM-LOC', 369), ('AM-MOD', 298), ('AM-ADV', 295), ('AM-MNR', 281), ('A3', 174), ('AM-NEG', 118), ('A0-N-V', 113), ('A1-N-V', 107), ('R-A1', 88), ('R-A0', 87), ('AM-PNC', 86), ('AM-DIR', 82), ('AM-CAU', 74), ('AM-DIS', 73), ('R-AM-TMP', 44), ('A4', 35), ('A2-N-V', 25), ('R-AM-CAU', 21), ('R-AM-LOC', 15), ('AM-EXT', 13), ('R-AM-MNR', 8), ('R-A2', 2), ('C-A1', 2)]\n",
      "937\n",
      "1043 1048 0.995\n",
      "5769\n",
      "5842 5853 0.998\n"
     ]
    }
   ],
   "source": [
    "input_dir = \"/home/shtoshni/Research/events/proc_data/conll09/bertsrl_output/\"\n",
    "output_dir = \"/home/shtoshni/Research/events/proc_data/conll09/bertsrl_output_proc/\"\n",
    "\n",
    "splits = ['train', 'dev', 'test']\n",
    "if not path.exists(output_dir):\n",
    "    os.makedirs(output_dir)\n",
    "    \n",
    "for split in splits:\n",
    "    process_split(input_dir, output_dir, split)"
   ]
  }
 ],
 "metadata": {
  "kernelspec": {
   "display_name": "Python [conda env:events] *",
   "language": "python",
   "name": "conda-env-events-py"
  },
  "language_info": {
   "codemirror_mode": {
    "name": "ipython",
    "version": 3
   },
   "file_extension": ".py",
   "mimetype": "text/x-python",
   "name": "python",
   "nbconvert_exporter": "python",
   "pygments_lexer": "ipython3",
   "version": "3.8.3"
  }
 },
 "nbformat": 4,
 "nbformat_minor": 4
}
