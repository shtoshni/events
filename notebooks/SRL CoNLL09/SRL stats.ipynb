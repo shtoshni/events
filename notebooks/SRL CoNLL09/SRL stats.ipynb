{
 "cells": [
  {
   "cell_type": "code",
   "execution_count": 122,
   "metadata": {},
   "outputs": [],
   "source": [
    "import json\n",
    "from os import path\n",
    "\n",
    "import sys\n",
    "sys.path.append(\"/home/shtoshni/Research/events/src\")\n",
    "\n",
    "from srl.constants import LABELS\n",
    "from collections import defaultdict"
   ]
  },
  {
   "cell_type": "code",
   "execution_count": 123,
   "metadata": {},
   "outputs": [],
   "source": [
    "train_file = \"/home/shtoshni/Research/events/proc_data/kbp_2015/srl/train.512.jsonlines\""
   ]
  },
  {
   "cell_type": "code",
   "execution_count": 124,
   "metadata": {},
   "outputs": [
    {
     "name": "stdout",
     "output_type": "stream",
     "text": [
      "end up\n",
      "it would be to attack the US because Colt products end up in tight gun control countries . You mean have the\n",
      "shoot up\n",
      "ban ##s are free to pressure the US military to shoot up Hartford , Connecticut and arrest Colt CEO ##s . Criminal\n",
      "shoot up\n",
      "ban ##s are free to pressure the US military to shoot up Hartford , Connecticut and arrest Colt CEO ##s . Criminal\n",
      "prison\n",
      "Christopher ' Du ##dus ' Coke to 23 years in prison . Jamaican drug lord handed maximum sentence - Americas -\n",
      "prison\n",
      "you to extra ##dit ##e you to India for a prison stint . Why not ? Who decides when a country\n",
      "prison\n",
      "you to extra ##dit ##e you to India for a prison stint . Especially if India set the global market conditions\n",
      "round ##ing up\n",
      "Colt CEO ##s . Criminal ##ising commodities internationally and then round ##ing up foreign nationals is gross ##ly im ##mor ##al . Control\n",
      "round ##ing up\n",
      "Colt CEO ##s . Criminal ##ising commodities internationally and then round ##ing up foreign nationals is gross ##ly im ##mor ##al . Control\n",
      "end up\n",
      "it would be to attack the US because Colt products end up in tight gun control countries . When they enforce them\n",
      "shoot up\n",
      "##az ##eera English The US government pressure Jamaican military to shoot up a neighbourhood and arrest a drug lord for trading in\n"
     ]
    }
   ],
   "source": [
    "total_uniq_spans = 0\n",
    "spans_with_srl_ann = 0\n",
    "\n",
    "with open(train_file) as f:\n",
    "    for idx, line in enumerate(f):\n",
    "        instance = json.loads(line.strip())\n",
    "        doc = []\n",
    "        for sentence in instance[\"sentences\"]:\n",
    "            doc.extend(sentence)\n",
    "            \n",
    "        unique_spans = set()\n",
    "        for cluster in instance[\"clusters\"]:\n",
    "            for (span_start, span_end, _) in cluster:\n",
    "                unique_spans.add((span_start, span_end))\n",
    "        total_uniq_spans += len(unique_spans)\n",
    "        \n",
    "        \n",
    "        event_spans = set()\n",
    "        for srl_info in instance[\"srl_info\"]:\n",
    "            event_spans.add(tuple(srl_info[0]))\n",
    "        spans_with_srl_ann += len(event_spans.intersection(unique_spans))    \n",
    "        \n",
    "        \n",
    "        if idx == 0:\n",
    "            for span_start, span_end in unique_spans.difference(event_spans):\n",
    "                print (\" \".join(doc[span_start: span_end + 1]))\n",
    "                print(\" \".join(doc[span_start-10: span_end + 11]))\n",
    "        "
   ]
  },
  {
   "cell_type": "code",
   "execution_count": 125,
   "metadata": {},
   "outputs": [
    {
     "name": "stdout",
     "output_type": "stream",
     "text": [
      "5110 4192\n"
     ]
    }
   ],
   "source": [
    "print(total_uniq_spans, spans_with_srl_ann)"
   ]
  },
  {
   "cell_type": "code",
   "execution_count": 126,
   "metadata": {},
   "outputs": [
    {
     "name": "stdout",
     "output_type": "stream",
     "text": [
      "defaultdict(<class 'int'>, {'A1': 3233, 'A2': 905, 'A0': 2349, 'AM-LOC': 356, 'AM-TMP': 636, 'AM-MNR': 238})\n"
     ]
    }
   ],
   "source": [
    "counter = defaultdict(int)\n",
    "\n",
    "with open(train_file) as f:\n",
    "    for idx, line in enumerate(f):\n",
    "        instance = json.loads(line.strip())\n",
    "        \n",
    "        for srl_info in instance[\"srl_info\"]:\n",
    "            for label, boundary in zip(LABELS[1:], srl_info[1:]):\n",
    "                if len(boundary):\n",
    "                    counter[label] += 1\n",
    "print(counter)"
   ]
  }
 ],
 "metadata": {
  "kernelspec": {
   "display_name": "Python [conda env:events] *",
   "language": "python",
   "name": "conda-env-events-py"
  },
  "language_info": {
   "codemirror_mode": {
    "name": "ipython",
    "version": 3
   },
   "file_extension": ".py",
   "mimetype": "text/x-python",
   "name": "python",
   "nbconvert_exporter": "python",
   "pygments_lexer": "ipython3",
   "version": "3.8.3"
  }
 },
 "nbformat": 4,
 "nbformat_minor": 4
}
