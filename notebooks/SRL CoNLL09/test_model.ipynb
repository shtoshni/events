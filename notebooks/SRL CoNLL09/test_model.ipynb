{
 "cells": [
  {
   "cell_type": "code",
   "execution_count": 1,
   "metadata": {},
   "outputs": [],
   "source": [
    "import sys\n",
    "sys.path.append(\"/home/shtoshni/Research/events/src\")\n",
    "\n",
    "from srl.inference.inference import Inference"
   ]
  },
  {
   "cell_type": "code",
   "execution_count": 2,
   "metadata": {},
   "outputs": [],
   "source": [
    "model_path = \"/home/shtoshni/Research/events/models/srl_conll09_mlp_200_model_base_emb_endpoint_type_spanbert_drop_0.0ft/best_models/model.pth\"\n"
   ]
  },
  {
   "cell_type": "code",
   "execution_count": 3,
   "metadata": {},
   "outputs": [],
   "source": [
    "model = Inference(model_path)"
   ]
  },
  {
   "cell_type": "code",
   "execution_count": 9,
   "metadata": {},
   "outputs": [],
   "source": [
    "sentence = [[\"Six\", [769, 769]], [\"of\", [770, 770]], [\"the\", [771, 771]], [\"11\", [772, 772]], [\"men\", [773, 773]], [\"pleaded\", [774, 774]], [\"guilty\", [775, 775]], [\",\", [776, 776]], [\"three\", [777, 777]], [\"were\", [778, 778]], [\"convicted\", [779, 779]], [\"at\", [780, 780]], [\"trial\", [781, 781]], [\"and\", [782, 782]], [\"two\", [783, 783]], [\"were\", [784, 784]], [\"acquitted\", [785, 785]], [\".\", [786, 786]]]"
   ]
  },
  {
   "cell_type": "code",
   "execution_count": 10,
   "metadata": {},
   "outputs": [
    {
     "name": "stdout",
     "output_type": "stream",
     "text": [
      "['Six', 'of', 'the', '11', 'men', 'pleaded', 'guilty', ',', 'three', 'were', 'convicted', 'at', 'trial', 'and', 'two', 'were', 'acquitted', '.']\n"
     ]
    }
   ],
   "source": [
    "sentence = [word[0] for word in sentence]\n",
    "print(sentence)"
   ]
  },
  {
   "cell_type": "code",
   "execution_count": 13,
   "metadata": {},
   "outputs": [
    {
     "data": {
      "text/plain": [
       "[[0, 1, 'A0', 'pleaded', 'Six'], [6, 2, 'A1', 'pleaded', 'guilty']]"
      ]
     },
     "execution_count": 13,
     "metadata": {},
     "output_type": "execute_result"
    }
   ],
   "source": [
    "doc = {\"sentence\": sentence, \"predicate\": 5}\n",
    "model.perform_srl(doc)"
   ]
  }
 ],
 "metadata": {
  "kernelspec": {
   "display_name": "Python [conda env:events] *",
   "language": "python",
   "name": "conda-env-events-py"
  },
  "language_info": {
   "codemirror_mode": {
    "name": "ipython",
    "version": 3
   },
   "file_extension": ".py",
   "mimetype": "text/x-python",
   "name": "python",
   "nbconvert_exporter": "python",
   "pygments_lexer": "ipython3",
   "version": "3.8.3"
  }
 },
 "nbformat": 4,
 "nbformat_minor": 4
}
