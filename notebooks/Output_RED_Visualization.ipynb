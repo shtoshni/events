{
 "cells": [
  {
   "cell_type": "code",
   "execution_count": 83,
   "metadata": {},
   "outputs": [],
   "source": [
    "import json\n",
    "import os\n",
    "from os import path\n",
    "import glob\n",
    "from collections import defaultdict"
   ]
  },
  {
   "cell_type": "code",
   "execution_count": 84,
   "metadata": {},
   "outputs": [],
   "source": [
    "log_dir = \"/home/shtoshni/Research/events/kenton_coref/e2e-coref/logs/best\"\n",
    "output_file = path.join(log_dir, \"eval_output.jsonlines\")\n",
    "\n",
    "output_dir = path.join(log_dir, \"html\")\n",
    "if not os.path.exists(output_dir):\n",
    "    os.makedirs(output_dir)"
   ]
  },
  {
   "cell_type": "code",
   "execution_count": 85,
   "metadata": {},
   "outputs": [],
   "source": [
    "HTML_START = '<!DOCTYPE html><html lang=\"en\"><head><meta charset=\"UTF-8\"></head><body>'\n",
    "\n",
    "corr_tag = '<div style=\"border:2px; display:inline; border-style: solid; border-color: blue; padding: 10px; padding-right: 4px; padding-left: 4px\">'\n",
    "pred_tag = '<div style=\"border:2px; display : inline; border-style: solid; border-color: red; padding:10px; padding-right: 4px; padding-left: 4px\">'\n",
    "\n",
    "end_tag = '</div>'"
   ]
  },
  {
   "cell_type": "code",
   "execution_count": 86,
   "metadata": {},
   "outputs": [
    {
     "name": "stdout",
     "output_type": "stream",
     "text": [
      "NYT_ENG_20131029.0091\n",
      "NYT_ENG_20130613.0153\n",
      "17a2dc40635ec239e9e16d10b6dd45e8.mpdf\n",
      "NYT_ENG_20130424.0047\n",
      "96bf72399b104346f3e79022e0c08e5a.mpdf\n",
      "57026b7bcb8f855de3e26d572db35285\n",
      "soc.culture.china_20050203.0639\n",
      "PROXY_AFP_ENG_20020406_0538\n",
      "PROXY_AFP_ENG_20020128_0449\n"
     ]
    }
   ],
   "source": [
    "doc_list = []\n",
    "\n",
    "with open(output_file) as f:\n",
    "    for line in f.readlines():\n",
    "        # Load the output\n",
    "        output_dict = json.loads(line.strip())\n",
    "        \n",
    "        doc_key = output_dict[\"doc_key\"]\n",
    "#         print(doc_key)\n",
    "        doc_key = doc_key.split(\"/\")[1]\n",
    "        doc_list.append(doc_key)\n",
    "        print(doc_key)\n",
    "        \n",
    "        sentences = output_dict[\"sentences\"]\n",
    "        source_doc = []\n",
    "        \n",
    "#         sent_indices = set()\n",
    "#         offset = 0\n",
    "        for sent in sentences:\n",
    "            sent[-1] = sent[-1] + \"\\n\"\n",
    "            source_doc.extend(sent)\n",
    "#             sent_indices.add(offset + len(sent))\n",
    "#             offset += len(sent)\n",
    "        \n",
    "        clusters = output_dict[\"clusters\"]\n",
    "        pred_clusters = output_dict[\"predicted_clusters\"]\n",
    "        \n",
    "        entity_list = []\n",
    "        html_tag_list = defaultdict(list)\n",
    "\n",
    "        # Get all the entity info\n",
    "        for cluster_set, cluster_type in zip([clusters, pred_clusters], [\"gt\", \"pred\"]):\n",
    "            # Get the html tag based on type of cluster\n",
    "            if cluster_type == 'gt':\n",
    "                html_tag = corr_tag\n",
    "            elif cluster_type == 'pred':\n",
    "                html_tag = pred_tag\n",
    "                \n",
    "            for cluster_id, cluster in enumerate(cluster_set):\n",
    "                for (span_start, span_end) in cluster:\n",
    "                    entity_list.append((cluster_type, cluster_id, (span_start, span_end)))\n",
    "\n",
    "\n",
    "                    html_tag_list[span_start].append((html_tag, 'start' + '-' + cluster_type, str(cluster_id) + '_' + cluster_type))\n",
    "                    html_tag_list[span_end].append((end_tag, 'end' + '-' + cluster_type, str(cluster_id) + '_' + cluster_type))\n",
    "\n",
    "        for key in html_tag_list:\n",
    "            # Sort all the HTML tags so that the end tags occur before the start tags\n",
    "            html_tag_list[key] = sorted(html_tag_list[key], key=lambda x: x[1])\n",
    "\n",
    "\n",
    "        html_string = HTML_START + '<div style=\"line-height: 3\">'\n",
    "\n",
    "        for idx, token in enumerate(source_doc):\n",
    "            token = token.replace(\"<\", \"~\")\n",
    "            token = token.replace(\">\", \"^\")\n",
    "            \n",
    "            if idx in html_tag_list:\n",
    "                tags = html_tag_list[idx]\n",
    "                for tag, tag_type, cluster_id in tags:\n",
    "                    if 'end' in tag_type:\n",
    "                        html_string += \"<sub>\" + str(cluster_id) + \"</sub>\" \n",
    "                    html_string += tag\n",
    "            \n",
    "#             if idx in sent_indices:\n",
    "#                 html_string += '\\n'\n",
    "            html_string += token + \" \"\n",
    "\n",
    "\n",
    "        html_string += \"</div></body></html>\"\n",
    "        html_string = html_string.replace(\"\\n\", \"\\n<br/>\")\n",
    "        html_string = html_string.replace(\"~\", \"&lt;\")\n",
    "        html_string = html_string.replace(\"^\", \"&gt;\")\n",
    "        with open(path.join(output_dir, doc_key + \".html\"), \"w\") as f:\n",
    "            f.write(html_string)"
   ]
  },
  {
   "cell_type": "code",
   "execution_count": 87,
   "metadata": {},
   "outputs": [],
   "source": [
    "index_html = HTML_START + '<ol type=\"1\">'\n",
    "\n",
    "for doc_key in doc_list:\n",
    "    html_output_file = doc_key + \".html\"\n",
    "    \n",
    "    index_html += '<li> <a href=\"{}\", target=\"_blank\">'.format(html_output_file) + doc_key + '</a></li>\\n'\n",
    "    \n",
    "\n",
    "index_html += '</ol>\\n</body>\\n</html>'\n",
    "with open(path.join(output_dir, \"index.html\"), \"w\") as g:\n",
    "    g.write(index_html)"
   ]
  }
 ],
 "metadata": {
  "kernelspec": {
   "display_name": "Python [conda env:narrative_10]",
   "language": "python",
   "name": "conda-env-narrative_10-py"
  },
  "language_info": {
   "codemirror_mode": {
    "name": "ipython",
    "version": 3
   },
   "file_extension": ".py",
   "mimetype": "text/x-python",
   "name": "python",
   "nbconvert_exporter": "python",
   "pygments_lexer": "ipython3",
   "version": "3.7.2"
  }
 },
 "nbformat": 4,
 "nbformat_minor": 2
}
