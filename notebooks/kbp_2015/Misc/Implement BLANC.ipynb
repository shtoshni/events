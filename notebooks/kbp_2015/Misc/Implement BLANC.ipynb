{
 "cells": [
  {
   "cell_type": "code",
   "execution_count": 8,
   "metadata": {},
   "outputs": [],
   "source": [
    "import json\n",
    "from os import path"
   ]
  },
  {
   "cell_type": "code",
   "execution_count": 9,
   "metadata": {},
   "outputs": [],
   "source": [
    "log_file = \"/home/shtoshni/Research/events/models/events_kbp_2015_aec9f8c195882335c0a88616bf5f2a5f/test.log.jsonl\""
   ]
  },
  {
   "cell_type": "code",
   "execution_count": 61,
   "metadata": {},
   "outputs": [],
   "source": [
    "def f1(p_num, p_den, r_num, r_den, beta=1):\n",
    "    p = 0 if p_den == 0 else p_num / float(p_den)\n",
    "    r = 0 if r_den == 0 else r_num / float(r_den)\n",
    "    return 0 if p + r == 0 else (1 + beta * beta) * p * r / (beta * beta * p + r)\n",
    "\n",
    "class Evaluator(object):\n",
    "    def __init__(self, beta=1):\n",
    "        self.right_coref = 0\n",
    "        self.wrong_coref = 0\n",
    "        self.right_non = 0\n",
    "        self.wrong_non = 0\n",
    "        self.metric = blanc\n",
    "        self.beta = beta\n",
    "\n",
    "    def update(self, predicted, gold):\n",
    "        rc, wc, rn, wn = self.metric(predicted, gold)\n",
    "        \n",
    "        self.right_coref += rc\n",
    "        self.wrong_coref += wc\n",
    "        self.right_non += rn\n",
    "        self.wrong_non += wn\n",
    "\n",
    "    def get_f1(self):\n",
    "        beta = self.beta\n",
    "        \n",
    "        rc_recall = (self.right_coref)/(self.right_coref + self.wrong_non)\n",
    "        rc_prec = (self.right_coref)/(self.right_coref + self.wrong_coref)\n",
    "        \n",
    "        fc = (1 + beta * beta) * rc_prec * rc_recall / (beta * beta * rc_prec + rc_recall)\n",
    "        \n",
    "        rn_prec = (self.right_non)/(self.right_non + self.wrong_non)\n",
    "        rn_recall = (self.right_non)/(self.right_non + self.wrong_coref)\n",
    "        fn = (1 + beta * beta) * rn_prec * rn_recall / (beta * beta * rn_prec + rn_recall)\n",
    "        \n",
    "        return (fc + fn)/2\n",
    "        \n",
    "    def get_recall(self):\n",
    "        rc_recall = (self.right_coref)/(self.right_coref + self.wrong_non)\n",
    "        rn_recall = (self.right_non)/(self.right_non + self.wrong_coref)\n",
    "        \n",
    "        return (rc_recall + rn_recall)/2\n",
    "\n",
    "    def get_precision(self):\n",
    "        rc_prec = (self.right_coref)/(self.right_coref + self.wrong_coref)\n",
    "        rn_prec = (self.right_non)/(self.right_non + self.wrong_non)\n",
    "        \n",
    "        return (rc_prec + rn_prec)/2\n",
    "\n",
    "    def get_prf(self):\n",
    "        return self.get_precision(), self.get_recall(), self.get_f1()\n",
    "    \n",
    "\n",
    "    \n",
    "def blanc(predicted, gold):\n",
    "    \n",
    "    def get_coref_and_non_coref_links(clusters):\n",
    "        coref_links = set()\n",
    "        mentions = set()\n",
    "        for cluster in clusters:\n",
    "            for idx, mention1 in enumerate(cluster):\n",
    "                mentions.add(tuple(mention1))\n",
    "                for mention2 in cluster[idx + 1:]:\n",
    "                    link = tuple(sorted([tuple(mention1), tuple(mention2)], key=lambda x: x[0] + 1e-5 * x[1]))\n",
    "                    coref_links.add(link)\n",
    "                                        \n",
    "        non_coref_links = set()\n",
    "        mentions = sorted(list(mentions), key=lambda x: x[0] + 1e-5 * x[1]) \n",
    "        for idx, mention1 in enumerate(mentions):\n",
    "            for mention2 in mentions[idx + 1:]:\n",
    "                if (mention1, mention2) in coref_links:\n",
    "                    continue\n",
    "                else:\n",
    "                    non_coref_links.add((mention1, mention2))\n",
    "                    \n",
    "                \n",
    "        return coref_links, non_coref_links\n",
    "                    \n",
    "    \n",
    "    gold_cl, gold_noncl = get_coref_and_non_coref_links(gold)\n",
    "    predicted_cl, predicted_noncl = get_coref_and_non_coref_links(predicted)\n",
    "    \n",
    "    \n",
    "    rc, wc, rn, wn = 0, 0, 0, 0\n",
    "    \n",
    "    for mention_pair in predicted_cl:\n",
    "        if mention_pair in gold_cl:\n",
    "            rc += 1\n",
    "        else:\n",
    "            wc += 1\n",
    "    \n",
    "    for mention_pair in predicted_noncl:\n",
    "        if mention_pair in gold_noncl:\n",
    "            rn += 1\n",
    "        else:\n",
    "            wn += 1\n",
    "    \n",
    "    \n",
    "    return rc, wc, rn, wn    \n",
    "\n",
    "\n",
    "def get_clusters(orig_clusters, key=\"subtype_val\"):\n",
    "    clusters = []\n",
    "\n",
    "    for orig_cluster in orig_clusters:\n",
    "        cluster = []\n",
    "        for (span_start, span_end, mention_info) in orig_cluster:\n",
    "            cluster.append((span_start, span_end, mention_info[key]))\n",
    "        clusters.append(cluster)\n",
    "\n",
    "    return clusters\n"
   ]
  },
  {
   "cell_type": "code",
   "execution_count": 62,
   "metadata": {},
   "outputs": [
    {
     "name": "stdout",
     "output_type": "stream",
     "text": [
      "(2, 2, 6, 0)\n"
     ]
    }
   ],
   "source": [
    "predicted = [[(1, 5), (2, 6)], [(3, 7), (4, 8), (5, 9)]]\n",
    "gold = [[(1, 5), (2, 6)], [(3, 7), (4, 8)], [(5, 9)]]\n",
    "print(blanc(predicted, gold))"
   ]
  },
  {
   "cell_type": "code",
   "execution_count": 63,
   "metadata": {},
   "outputs": [],
   "source": [
    "evaluator = Evaluator()\n",
    "\n",
    "with open(log_file) as f:\n",
    "    for line in f:\n",
    "        instance = json.loads(line.strip())\n",
    "        evaluator.update(instance[\"predicted_clusters\"], get_clusters(instance[\"clusters\"], key=\"subtype_val\"))"
   ]
  },
  {
   "cell_type": "code",
   "execution_count": 64,
   "metadata": {},
   "outputs": [
    {
     "name": "stdout",
     "output_type": "stream",
     "text": [
      "0.38484240701105954\n"
     ]
    }
   ],
   "source": [
    "print(evaluator.get_f1())"
   ]
  }
 ],
 "metadata": {
  "kernelspec": {
   "display_name": "Python [conda env:events] *",
   "language": "python",
   "name": "conda-env-events-py"
  },
  "language_info": {
   "codemirror_mode": {
    "name": "ipython",
    "version": 3
   },
   "file_extension": ".py",
   "mimetype": "text/x-python",
   "name": "python",
   "nbconvert_exporter": "python",
   "pygments_lexer": "ipython3",
   "version": "3.8.3"
  }
 },
 "nbformat": 4,
 "nbformat_minor": 4
}
