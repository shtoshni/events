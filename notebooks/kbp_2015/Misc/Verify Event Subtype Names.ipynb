{
 "cells": [
  {
   "cell_type": "code",
   "execution_count": 1,
   "metadata": {},
   "outputs": [],
   "source": [
    "import os\n",
    "from os import path\n",
    "import sys\n",
    "\n",
    "sys.path.append(\"/home/shtoshni/Research/events/src\")\n",
    "\n",
    "from kbp_2015_utils.constants import EVENT_SUBTYPES_NAME"
   ]
  },
  {
   "cell_type": "markdown",
   "metadata": {},
   "source": [
    "### Load the eval TBF file"
   ]
  },
  {
   "cell_type": "code",
   "execution_count": 2,
   "metadata": {},
   "outputs": [],
   "source": [
    "gold_file = \"/home/shtoshni/Research/events/data/kbp_2014-2015/data/2015/eval/tbf/EvalEventNugget20150903.tbf\"\n",
    "\n",
    "\n",
    "event_subtype_names = set()\n",
    "with open(gold_file) as f:\n",
    "    for line in f:\n",
    "        entries = line.strip().split(\"\\t\")\n",
    "        if len(entries) > 1:\n",
    "#             print(entries)\n",
    "            event_subtype_names.add(entries[5])\n",
    "#             break\n",
    "#         if len(entries) > 1:\n",
    "#             break"
   ]
  },
  {
   "cell_type": "markdown",
   "metadata": {},
   "source": [
    "### Check the difference between the two sets of names"
   ]
  },
  {
   "cell_type": "code",
   "execution_count": 3,
   "metadata": {},
   "outputs": [
    {
     "data": {
      "text/plain": [
       "set()"
      ]
     },
     "execution_count": 3,
     "metadata": {},
     "output_type": "execute_result"
    }
   ],
   "source": [
    "event_subtype_names.difference(EVENT_SUBTYPES_NAME)"
   ]
  }
 ],
 "metadata": {
  "kernelspec": {
   "display_name": "Python [conda env:events] *",
   "language": "python",
   "name": "conda-env-events-py"
  },
  "language_info": {
   "codemirror_mode": {
    "name": "ipython",
    "version": 3
   },
   "file_extension": ".py",
   "mimetype": "text/x-python",
   "name": "python",
   "nbconvert_exporter": "python",
   "pygments_lexer": "ipython3",
   "version": "3.8.3"
  }
 },
 "nbformat": 4,
 "nbformat_minor": 4
}
