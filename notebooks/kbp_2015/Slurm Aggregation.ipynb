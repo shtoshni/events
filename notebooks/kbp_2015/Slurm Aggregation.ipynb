{
 "cells": [
  {
   "cell_type": "code",
   "execution_count": 153,
   "metadata": {},
   "outputs": [],
   "source": [
    "import os\n",
    "from os import path\n",
    "import glob\n",
    "import pandas as pd\n",
    "import json\n",
    "from collections import defaultdict"
   ]
  },
  {
   "cell_type": "code",
   "execution_count": 154,
   "metadata": {},
   "outputs": [
    {
     "name": "stdout",
     "output_type": "stream",
     "text": [
      "20\n"
     ]
    }
   ],
   "source": [
    "perf_dir = \"/share/data/speech/shtoshni/research/events/models/perf/\"\n",
    "slurm_id = \"6407273\"\n",
    "\n",
    "files = sorted(glob.glob(path.join(perf_dir, slurm_id + \"*\")), key=lambda x: int(path.splitext(path.basename(x))[0].split('_')[1]))\n",
    "print(len(files))"
   ]
  },
  {
   "cell_type": "code",
   "execution_count": 155,
   "metadata": {},
   "outputs": [],
   "source": [
    "model_dict_list = []\n",
    "for file in files:\n",
    "    model_dict_list.append(json.loads(open(file).read()))"
   ]
  },
  {
   "cell_type": "code",
   "execution_count": 156,
   "metadata": {},
   "outputs": [],
   "source": [
    "def determine_varying_attributes(model_dict_list, ignore_attribs=['model_dir', 'train', 'test', 'dev', 'pretrained_mention_model',\n",
    "                                                                  'slurm_id', 'best_model_dir', 'data_dir']):\n",
    "    attrib_to_vals = defaultdict(set)\n",
    "    for model_dict in model_dict_list:\n",
    "        for attrib, val in model_dict.items():\n",
    "            if attrib in ignore_attribs:\n",
    "                continue\n",
    "            else:\n",
    "                attrib_to_vals[attrib].add(val)\n",
    "    \n",
    "    \n",
    "    varying_attribs = []\n",
    "    for attrib, vals in attrib_to_vals.items():\n",
    "        if len(vals) > 1:\n",
    "            varying_attribs.append(attrib)\n",
    "            \n",
    "    return varying_attribs"
   ]
  },
  {
   "cell_type": "code",
   "execution_count": 157,
   "metadata": {},
   "outputs": [],
   "source": [
    "varying_attribs = determine_varying_attributes(model_dict_list)\n"
   ]
  },
  {
   "cell_type": "code",
   "execution_count": 158,
   "metadata": {},
   "outputs": [],
   "source": [
    "perf_df = pd.DataFrame(columns=(varying_attribs))\n",
    "\n",
    "for model_dict in model_dict_list:\n",
    "    perf_dict = {}\n",
    "    for attrib in varying_attribs:\n",
    "        perf_dict[attrib] = model_dict[attrib]\n",
    "            \n",
    "    perf_dict['fscore'] = round(model_dict['dev']['fscore'], 1)\n",
    "    perf_dict['test_f'] = round(model_dict['test']['fscore'], 1)\n",
    "                \n",
    "    perf_df = perf_df.append(perf_dict, ignore_index=True)"
   ]
  },
  {
   "cell_type": "code",
   "execution_count": 159,
   "metadata": {},
   "outputs": [
    {
     "name": "stdout",
     "output_type": "stream",
     "text": [
      "|    | use_local_attention   |   mlp_size | use_srl   |   sample_invalid |   srl_loss_wt |   fscore |   test_f |\n",
      "|---:|:----------------------|-----------:|:----------|-----------------:|--------------:|---------:|---------:|\n",
      "|  0 | False                 |       1000 | False     |             0.25 |          1    |     47   |     48.7 |\n",
      "|  1 | True                  |       1000 | False     |             0.25 |          1    |     47.9 |     49.4 |\n",
      "|  2 | False                 |       1000 | True      |             0.25 |          0.01 |     48.6 |     48.8 |\n",
      "|  3 | False                 |       1000 | True      |             0.25 |          0.1  |     47.1 |     48.9 |\n",
      "|  4 | False                 |       1000 | True      |             0.25 |          1    |     47.3 |     48.4 |\n",
      "|  5 | False                 |       1000 | False     |             0.5  |          1    |     48.7 |     49.9 |\n",
      "|  6 | True                  |       1000 | False     |             0.5  |          1    |     47   |     46.8 |\n",
      "|  7 | False                 |       1000 | True      |             0.5  |          0.01 |     46.8 |     48.6 |\n",
      "|  8 | False                 |       1000 | True      |             0.5  |          0.1  |     47.3 |     49.2 |\n",
      "|  9 | False                 |       1000 | True      |             0.5  |          1    |     46.7 |     49.1 |\n",
      "| 10 | False                 |       3000 | False     |             0.25 |          1    |     48.7 |     48.8 |\n",
      "| 11 | True                  |       3000 | False     |             0.25 |          1    |     47.9 |     48.8 |\n",
      "| 12 | False                 |       3000 | True      |             0.25 |          0.01 |     47.1 |     50.1 |\n",
      "| 13 | False                 |       3000 | True      |             0.25 |          0.1  |     48.9 |     49.3 |\n",
      "| 14 | False                 |       3000 | True      |             0.25 |          1    |     48.4 |     48.3 |\n",
      "| 15 | False                 |       3000 | False     |             0.5  |          1    |     47.2 |     49   |\n",
      "| 16 | True                  |       3000 | False     |             0.5  |          1    |     47.3 |     48   |\n",
      "| 17 | False                 |       3000 | True      |             0.5  |          0.01 |     47.3 |     49.1 |\n",
      "| 18 | False                 |       3000 | True      |             0.5  |          0.1  |     48.7 |     48.7 |\n",
      "| 19 | False                 |       3000 | True      |             0.5  |          1    |     47.6 |     49.3 |\n"
     ]
    }
   ],
   "source": [
    "print(perf_df.to_markdown()) \n"
   ]
  },
  {
   "cell_type": "code",
   "execution_count": 160,
   "metadata": {},
   "outputs": [
    {
     "name": "stdout",
     "output_type": "stream",
     "text": [
      ",use_local_attention,mlp_size,use_srl,sample_invalid,srl_loss_wt,fscore,test_f\n",
      "0,False,1000,False,0.25,1.0,47.0,48.7\n",
      "1,True,1000,False,0.25,1.0,47.9,49.4\n",
      "2,False,1000,True,0.25,0.01,48.6,48.8\n",
      "3,False,1000,True,0.25,0.1,47.1,48.9\n",
      "4,False,1000,True,0.25,1.0,47.3,48.4\n",
      "5,False,1000,False,0.5,1.0,48.7,49.9\n",
      "6,True,1000,False,0.5,1.0,47.0,46.8\n",
      "7,False,1000,True,0.5,0.01,46.8,48.6\n",
      "8,False,1000,True,0.5,0.1,47.3,49.2\n",
      "9,False,1000,True,0.5,1.0,46.7,49.1\n",
      "10,False,3000,False,0.25,1.0,48.7,48.8\n",
      "11,True,3000,False,0.25,1.0,47.9,48.8\n",
      "12,False,3000,True,0.25,0.01,47.1,50.1\n",
      "13,False,3000,True,0.25,0.1,48.9,49.3\n",
      "14,False,3000,True,0.25,1.0,48.4,48.3\n",
      "15,False,3000,False,0.5,1.0,47.2,49.0\n",
      "16,True,3000,False,0.5,1.0,47.3,48.0\n",
      "17,False,3000,True,0.5,0.01,47.3,49.1\n",
      "18,False,3000,True,0.5,0.1,48.7,48.7\n",
      "19,False,3000,True,0.5,1.0,47.6,49.3\n",
      "\n"
     ]
    }
   ],
   "source": [
    "print(perf_df.to_csv()) \n"
   ]
  }
 ],
 "metadata": {
  "kernelspec": {
   "display_name": "Python [conda env:events] *",
   "language": "python",
   "name": "conda-env-events-py"
  },
  "language_info": {
   "codemirror_mode": {
    "name": "ipython",
    "version": 3
   },
   "file_extension": ".py",
   "mimetype": "text/x-python",
   "name": "python",
   "nbconvert_exporter": "python",
   "pygments_lexer": "ipython3",
   "version": "3.8.3"
  }
 },
 "nbformat": 4,
 "nbformat_minor": 4
}
