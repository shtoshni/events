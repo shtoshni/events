{
 "cells": [
  {
   "cell_type": "code",
   "execution_count": 1,
   "metadata": {},
   "outputs": [],
   "source": [
    "from transformers import BertTokenizer\n"
   ]
  },
  {
   "cell_type": "code",
   "execution_count": 3,
   "metadata": {},
   "outputs": [
    {
     "data": {
      "text/plain": [
       "1"
      ]
     },
     "execution_count": 3,
     "metadata": {},
     "output_type": "execute_result"
    }
   ],
   "source": [
    "tokenizer = BertTokenizer.from_pretrained('bert-base-cased')\n",
    "NEWLINE_TOKEN = \"[NEWL]\"\n",
    "tokenizer.add_special_tokens(\n",
    "        {'additional_special_tokens': [NEWLINE_TOKEN]})"
   ]
  },
  {
   "cell_type": "code",
   "execution_count": 4,
   "metadata": {},
   "outputs": [],
   "source": [
    "text = \"\"\"<a href=\"http://www.rawstory.com/rs/2010/12/nigerias-drop-cheney-charges-illegal/\">Nigeria's deal to drop Cheney charges ca\"\"\""
   ]
  },
  {
   "cell_type": "code",
   "execution_count": 5,
   "metadata": {},
   "outputs": [
    {
     "data": {
      "text/plain": [
       "['<',\n",
       " 'a',\n",
       " 'h',\n",
       " '##re',\n",
       " '##f',\n",
       " '=',\n",
       " '\"',\n",
       " 'http',\n",
       " ':',\n",
       " '/',\n",
       " '/',\n",
       " 'www',\n",
       " '.',\n",
       " 'raw',\n",
       " '##sto',\n",
       " '##ry',\n",
       " '.',\n",
       " 'com',\n",
       " '/',\n",
       " 'r',\n",
       " '##s',\n",
       " '/',\n",
       " '2010',\n",
       " '/',\n",
       " '12',\n",
       " '/',\n",
       " 'ni',\n",
       " '##ger',\n",
       " '##ias',\n",
       " '-',\n",
       " 'drop',\n",
       " '-',\n",
       " 'ch',\n",
       " '##ene',\n",
       " '##y',\n",
       " '-',\n",
       " 'charges',\n",
       " '-',\n",
       " 'illegal',\n",
       " '/',\n",
       " '\"',\n",
       " '>',\n",
       " 'Nigeria',\n",
       " \"'\",\n",
       " 's',\n",
       " 'deal',\n",
       " 'to',\n",
       " 'drop',\n",
       " 'Cheney',\n",
       " 'charges',\n",
       " 'ca']"
      ]
     },
     "execution_count": 5,
     "metadata": {},
     "output_type": "execute_result"
    }
   ],
   "source": [
    "tokenizer.tokenize(text)"
   ]
  }
 ],
 "metadata": {
  "kernelspec": {
   "display_name": "Python [conda env:lm_inductive]",
   "language": "python",
   "name": "conda-env-lm_inductive-py"
  },
  "language_info": {
   "codemirror_mode": {
    "name": "ipython",
    "version": 3
   },
   "file_extension": ".py",
   "mimetype": "text/x-python",
   "name": "python",
   "nbconvert_exporter": "python",
   "pygments_lexer": "ipython3",
   "version": "3.7.7"
  }
 },
 "nbformat": 4,
 "nbformat_minor": 4
}
