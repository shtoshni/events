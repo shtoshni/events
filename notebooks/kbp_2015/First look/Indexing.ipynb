{
 "cells": [
  {
   "cell_type": "code",
   "execution_count": 5,
   "metadata": {},
   "outputs": [],
   "source": [
    "import xml\n",
    "import xml.etree.ElementTree as ET\n",
    "import os\n",
    "from os import path\n",
    "import glob\n",
    "from collections import defaultdict\n",
    "import numpy as np\n",
    "import plotly.express as px\n",
    "import plotly.graph_objects as go\n",
    "from plotly.subplots import make_subplots\n",
    "from IPython.display import Image"
   ]
  },
  {
   "cell_type": "code",
   "execution_count": 6,
   "metadata": {},
   "outputs": [],
   "source": [
    "data_dir = \"/home/shtoshni/Research/events/data/kbp_2014-2015/data/2015/training\""
   ]
  },
  {
   "cell_type": "code",
   "execution_count": 7,
   "metadata": {},
   "outputs": [],
   "source": [
    "source_file = \"/home/shtoshni/Research/events/data/kbp_2014-2015/data/2015/training/source/AFP_ENG_20090801.0002.txt\"\n",
    "ann_file = \"/home/shtoshni/Research/events/data/kbp_2014-2015/data/2015/training/event_nugget/AFP_ENG_20090801.0002.event_nuggets.xml\""
   ]
  },
  {
   "cell_type": "code",
   "execution_count": 16,
   "metadata": {},
   "outputs": [],
   "source": [
    "tree = ET.parse(ann_file)\n",
    "xml_root = tree.getroot()\n",
    "\n",
    "source_text = ''.join(open(source_file).readlines())\n",
    "# print(type(source_text), source_text[:50])\n",
    "# print(source_text)\n",
    "\n",
    "for elem in xml_root.iter('event_mention'):\n",
    "    event_id = elem.attrib['id']\n",
    "    event_type = elem.attrib['type']\n",
    "    event_subtype = f\"{event_type}.{elem.attrib['subtype']}\"\n",
    "\n",
    "    event_realis = elem.attrib['realis']\n",
    "\n",
    "    trigger_elem = elem.find('trigger')\n",
    "    offset = int(trigger_elem.attrib['offset'])\n",
    "    length = int(trigger_elem.attrib['length'])\n",
    "    event_phrase = trigger_elem.text\n",
    "    \n",
    "    assert (event_phrase == source_text[offset: offset + length])"
   ]
  }
 ],
 "metadata": {
  "kernelspec": {
   "display_name": "Python [conda env:events] *",
   "language": "python",
   "name": "conda-env-events-py"
  },
  "language_info": {
   "codemirror_mode": {
    "name": "ipython",
    "version": 3
   },
   "file_extension": ".py",
   "mimetype": "text/x-python",
   "name": "python",
   "nbconvert_exporter": "python",
   "pygments_lexer": "ipython3",
   "version": "3.8.3"
  }
 },
 "nbformat": 4,
 "nbformat_minor": 4
}
