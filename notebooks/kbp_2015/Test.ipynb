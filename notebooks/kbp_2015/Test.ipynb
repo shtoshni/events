{
 "cells": [
  {
   "cell_type": "code",
   "execution_count": 58,
   "metadata": {},
   "outputs": [],
   "source": [
    "import xml\n",
    "import xml.etree.ElementTree as ET\n",
    "import glob\n",
    "from os import path\n",
    "from collections import OrderedDict, defaultdict\n",
    "import plotly.express as px"
   ]
  },
  {
   "cell_type": "code",
   "execution_count": 51,
   "metadata": {},
   "outputs": [
    {
     "name": "stdout",
     "output_type": "stream",
     "text": [
      "158\n"
     ]
    }
   ],
   "source": [
    "training_mention_dir = \"/home/shtoshni/Research/events/data/kbp_2014-2015/data/2015/training/event_nugget/\"\n",
    "# training_mention_dir = \"/home/shtoshni/Research/events/data/kbp_2014-2015/data/2015/eval/nugget/\"\n",
    "\n",
    "mention_ann_files = sorted(glob.glob(path.join(training_mention_dir, \"*.xml\")))\n",
    "\n",
    "print(len(mention_ann_files))\n"
   ]
  },
  {
   "cell_type": "code",
   "execution_count": 52,
   "metadata": {},
   "outputs": [],
   "source": [
    "doc_types = defaultdict(int)\n",
    "event_type_count = defaultdict(int)\n",
    "event_subtype_count = defaultdict(int)\n",
    "event_realis_count = defaultdict(int)\n",
    "\n",
    "trigger_word_dict = defaultdict(int)\n",
    "span_to_count = defaultdict(set)\n",
    "\n",
    "for ann_file in mention_ann_files:\n",
    "    tree = ET.parse(ann_file)\n",
    "    xml_root = tree.getroot()\n",
    "\n",
    "    doc_id = xml_root.attrib['doc_id']\n",
    "    doc_source_type = xml_root.attrib['source_type']\n",
    "    \n",
    "    # Update doc type count\n",
    "    doc_types[doc_source_type] += 1\n",
    "\n",
    "#     print(doc_id, doc_source_type)\n",
    "\n",
    "    for elem in xml_root.iter('event_mention'):\n",
    "        event_id = elem.attrib['id']\n",
    "        event_type = elem.attrib['type']\n",
    "        # Update event type count\n",
    "        event_type_count[event_type] += 1\n",
    "        \n",
    "        event_subtype = f\"{event_type}.{elem.attrib['subtype']}\"\n",
    "        # Update event subtype count\n",
    "        event_subtype_count[event_subtype] += 1\n",
    "        \n",
    "        event_realis = elem.attrib['realis']\n",
    "        event_realis_count[event_realis] += 1\n",
    "        \n",
    "        trigger_elem = elem.find('trigger')\n",
    "        offset = trigger_elem.attrib['offset']\n",
    "        length = trigger_elem.attrib['length']\n",
    "        event_phrase = trigger_elem.text\n",
    "        trigger_word_dict[event_phrase] += 1\n",
    "        \n",
    "        # Doc ID, doc offset, and span length uniquely identify a span \n",
    "        span_to_count[(doc_id, offset, length)].add(event_id)    "
   ]
  },
  {
   "cell_type": "code",
   "execution_count": 57,
   "metadata": {},
   "outputs": [
    {
     "name": "stdout",
     "output_type": "stream",
     "text": [
      "defaultdict(<class 'int'>, {'multi_post': 77, 'newswire': 81})\n",
      "defaultdict(<class 'int'>, {'actual': 3599, 'generic': 1211, 'other': 1728})\n",
      "38\n",
      "9\n",
      "Total events: 6538\n",
      "defaultdict(<class 'int'>, {1: 5886, 2: 317, 3: 6})\n",
      "Total events: 6538\n"
     ]
    }
   ],
   "source": [
    "print(doc_types)\n",
    "print(event_realis_count)\n",
    "print(len(event_subtype_count))\n",
    "print(len(event_type_count))\n",
    "print(\"Total events:\", sum(list(event_realis_count.values())))\n",
    "\n",
    "trigger_count_per_span = defaultdict(int)\n",
    "total_events = 0\n",
    "for (doc_id, offset, length), event_id_list in span_to_count.items():\n",
    "    trigger_count_per_span[len(event_id_list)] += 1\n",
    "    total_events += len(event_id_list)\n",
    "    \n",
    "print(trigger_count_per_span)\n",
    "print(\"Total events:\", total_events)"
   ]
  },
  {
   "cell_type": "markdown",
   "metadata": {},
   "source": [
    "### Coref files"
   ]
  },
  {
   "cell_type": "code",
   "execution_count": 60,
   "metadata": {},
   "outputs": [],
   "source": [
    "training_coref_dir = \"/home/shtoshni/Research/events/data/kbp_2014-2015/data/2015/training/event_hopper/\"\n",
    "# training_mention_dir = \"/home/shtoshni/Research/events/data/kbp_2014-2015/data/2015/eval/nugget/\"\n",
    "\n",
    "coref_ann_files = sorted(glob.glob(path.join(training_coref_dir, \"*.xml\")))"
   ]
  },
  {
   "cell_type": "code",
   "execution_count": 61,
   "metadata": {},
   "outputs": [],
   "source": [
    "# Global counters\n",
    "event_type_counter = defaultdict(int)\n",
    "event_subtype_counter = defaultdict(int)\n",
    "event_realis_counter = defaultdict(int)\n",
    "event_phrase_counter = defaultdict(int)\n",
    "coref_chain_size_counter = defaultdict(int)\n",
    "\n",
    "for ann_file in coref_ann_files[:1]:\n",
    "    tree = ET.parse(ann_file)\n",
    "    xml_root = tree.getroot()\n",
    "    \n",
    "    for coref_elem in xml_root.iter('hopper'):\n",
    "        event_type_set = set()\n",
    "        event_subtype_set = set()\n",
    "        event_realis_set = set()\n",
    "        event_phrase_set = set()\n",
    "        coref_chain_size = 0\n",
    "        for event_elem in coref_elem.iter('event_mention'):\n",
    "            # Get type, subtype, realis, and text\n",
    "            event_type_set.add(event_elem.attrib['type'])\n",
    "            event_subtype_set.add(f\"{event_type}.{elem.attrib['subtype']}\")\n",
    "            event_realis_set.add(elem.attrib['realis'])\n",
    "\n",
    "            trigger_elem = elem.find('trigger')\n",
    "            event_phrase_set.add(trigger_elem.text)\n",
    "            coref_chain_size += 1\n",
    "            \n",
    "        event_type_counter[len(event_type_set)] += 1\n",
    "        event_subtype_counter[len(event_subtype_set)] += 1\n",
    "        event_realis_counter[len(event_realis_set)] += 1\n",
    "        event_phrase_counter[len(event_phrase_set)] += 1\n",
    "        coref_chain_size_counter[coref_chain_size] += 1"
   ]
  }
 ],
 "metadata": {
  "kernelspec": {
   "display_name": "Python [conda env:events] *",
   "language": "python",
   "name": "conda-env-events-py"
  },
  "language_info": {
   "codemirror_mode": {
    "name": "ipython",
    "version": 3
   },
   "file_extension": ".py",
   "mimetype": "text/x-python",
   "name": "python",
   "nbconvert_exporter": "python",
   "pygments_lexer": "ipython3",
   "version": "3.8.3"
  }
 },
 "nbformat": 4,
 "nbformat_minor": 4
}
