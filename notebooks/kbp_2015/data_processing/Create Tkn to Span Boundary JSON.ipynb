{
 "cells": [
  {
   "cell_type": "code",
   "execution_count": 1,
   "metadata": {},
   "outputs": [],
   "source": [
    "import json\n",
    "import glob\n",
    "import os\n",
    "from os import path"
   ]
  },
  {
   "cell_type": "code",
   "execution_count": 2,
   "metadata": {},
   "outputs": [],
   "source": [
    "token_dir = \"/home/shtoshni/Research/events/data/kbp_2014-2015/data/2015/eval/tkn\"\n",
    "output_dir = \"/home/shtoshni/Research/events/proc_data/kbp_2015/cleaned\""
   ]
  },
  {
   "cell_type": "code",
   "execution_count": 3,
   "metadata": {},
   "outputs": [],
   "source": [
    "tab_files = sorted(glob.glob(path.join(token_dir, \"*.tab\")))\n",
    "output_file = path.join(output_dir, \"test_token.json\")\n",
    "\n",
    "with open(output_file, \"w\") as out_f:\n",
    "    output_dict = {}\n",
    "    for tab_file in tab_files:\n",
    "        doc_key = path.splitext(path.basename(tab_file))[0]\n",
    "        output_dict[doc_key] = {}\n",
    "#         print(doc_key)\n",
    "        \n",
    "        span_boundary_to_token_idx = {}\n",
    "        with open(tab_file) as f:\n",
    "            for line in f:\n",
    "                token_idx, token, span_start, span_end = line.strip().split(\"\\t\")\n",
    "                span_boundary_to_token_idx[f\"{span_start}-{span_end}\"] = token_idx\n",
    "                \n",
    "        output_dict[doc_key] = span_boundary_to_token_idx\n",
    "                \n",
    "    out_f.write(json.dumps(output_dict, indent=2))"
   ]
  }
 ],
 "metadata": {
  "kernelspec": {
   "display_name": "Python [conda env:events] *",
   "language": "python",
   "name": "conda-env-events-py"
  },
  "language_info": {
   "codemirror_mode": {
    "name": "ipython",
    "version": 3
   },
   "file_extension": ".py",
   "mimetype": "text/x-python",
   "name": "python",
   "nbconvert_exporter": "python",
   "pygments_lexer": "ipython3",
   "version": "3.8.3"
  }
 },
 "nbformat": 4,
 "nbformat_minor": 4
}
