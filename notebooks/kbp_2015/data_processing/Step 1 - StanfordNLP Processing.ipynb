{
 "cells": [
  {
   "cell_type": "code",
   "execution_count": 17,
   "metadata": {},
   "outputs": [],
   "source": [
    "import os\n",
    "import glob\n",
    "from os import path\n",
    "\n",
    "import sys\n",
    "sys.path.append(\"/home/shtoshni/Research/events/src\")\n",
    "\n",
    "from kbp_2015_utils.constants import SPLIT_TO_DIR, SUBDIR_DICT, SUBDIR_EXT"
   ]
  },
  {
   "cell_type": "markdown",
   "metadata": {},
   "source": [
    "### Setup paths"
   ]
  },
  {
   "cell_type": "code",
   "execution_count": 18,
   "metadata": {},
   "outputs": [],
   "source": [
    "property_file = \"/home/shtoshni/Research/events/resources/cleanxml.properties\"\n",
    "jar_file = \"/home/shtoshni/Development/stanford-corenlp-4.2.0/stanford-corenlp-4.2.0.jar:/home/shtoshni/Development/stanford-corenlp-4.2.0/stanford-corenlp-4.2.0-models.jar\"\n",
    "\n",
    "base_input_dir = \"/home/shtoshni/Research/events/data/kbp_2014-2015/data/2015\"\n",
    "base_output_dir = \"/home/shtoshni/Research/events/proc_data/kbp_2015\"\n",
    "output_dir = path.join(base_output_dir, \"remove_xml_2\")\n",
    "\n",
    "if not path.exists(output_dir):\n",
    "    os.makedirs(output_dir)"
   ]
  },
  {
   "cell_type": "markdown",
   "metadata": {},
   "source": [
    "### Preprocessing Command"
   ]
  },
  {
   "cell_type": "code",
   "execution_count": 19,
   "metadata": {},
   "outputs": [
    {
     "name": "stdout",
     "output_type": "stream",
     "text": [
      "java -mx4g -cp /home/shtoshni/Development/stanford-corenlp-4.2.0/stanford-corenlp-4.2.0.jar:/home/shtoshni/Development/stanford-corenlp-4.2.0/stanford-corenlp-4.2.0-models.jar edu.stanford.nlp.pipeline.StanfordCoreNLP -props /home/shtoshni/Research/events/resources/cleanxml.properties -annotators \"tokenize,cleanxml,ssplit,pos,lemma,ner,truecase,quote,entitymentions\" -quote.attributeQuotes false -outputFormat json -outputDirectory /home/shtoshni/Research/events/proc_data/kbp_2015/remove_xml_2 -file \n"
     ]
    }
   ],
   "source": [
    "command = (f\"\"\"java -mx4g -cp {jar_file} edu.stanford.nlp.pipeline.StanfordCoreNLP -props {property_file} \"\"\"\n",
    "           f\"\"\"-annotators \"tokenize,cleanxml,ssplit,pos,lemma,ner,truecase,quote,entitymentions\" -quote.attributeQuotes false -outputFormat json -outputDirectory {output_dir} -file \"\"\")\n",
    "\n",
    "print(command)"
   ]
  },
  {
   "cell_type": "markdown",
   "metadata": {},
   "source": [
    "### Process All Files"
   ]
  },
  {
   "cell_type": "code",
   "execution_count": null,
   "metadata": {},
   "outputs": [],
   "source": [
    "def process_partition(split):\n",
    "    split_dir = path.join(base_input_dir, SPLIT_TO_DIR[split])\n",
    "    source_dir = path.join(split_dir, SUBDIR_DICT[\"source\"])\n",
    "    source_files = sorted(glob.glob(path.join(source_dir, \"*\" + SUBDIR_EXT[\"source\"])))\n",
    "    \n",
    "    \n",
    "    for source_file in source_files:\n",
    "        os.system(command + source_file)\n",
    "    \n",
    "\n",
    "for split in SPLIT_TO_DIR:\n",
    "    process_partition(split)"
   ]
  }
 ],
 "metadata": {
  "kernelspec": {
   "display_name": "Python [conda env:events] *",
   "language": "python",
   "name": "conda-env-events-py"
  },
  "language_info": {
   "codemirror_mode": {
    "name": "ipython",
    "version": 3
   },
   "file_extension": ".py",
   "mimetype": "text/x-python",
   "name": "python",
   "nbconvert_exporter": "python",
   "pygments_lexer": "ipython3",
   "version": "3.8.3"
  }
 },
 "nbformat": 4,
 "nbformat_minor": 4
}
