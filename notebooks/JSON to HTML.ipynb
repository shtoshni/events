{
 "cells": [
  {
   "cell_type": "code",
   "execution_count": 5,
   "metadata": {},
   "outputs": [],
   "source": [
    "import os\n",
    "from os import path\n",
    "import json\n",
    "import sys\n",
    "\n",
    "sys.path.append(\"../src/\")\n",
    "\n",
    "from red_utils.constants import IDX_TO_ELEM_TYPE"
   ]
  },
  {
   "cell_type": "markdown",
   "metadata": {},
   "source": [
    "## Set input and output directories"
   ]
  },
  {
   "cell_type": "code",
   "execution_count": 3,
   "metadata": {},
   "outputs": [],
   "source": [
    "input_file = \"/home/shtoshni/Research/events/proc_data/red/independent/\"\n",
    "suffix = \"{}.512.jsonlines\"\n",
    "\n",
    "splits = [\"train\", \"dev\", \"test\"]\n",
    "\n",
    "output_dir = \"/home/shtoshni/Research/events/data/red/bert_html\"\n",
    "\n",
    "if not path.exists(output_dir):\n",
    "    os.makedirs(output_dir)"
   ]
  },
  {
   "cell_type": "markdown",
   "metadata": {},
   "source": [
    "## HTML Setup"
   ]
  },
  {
   "cell_type": "code",
   "execution_count": 4,
   "metadata": {},
   "outputs": [],
   "source": [
    "HTML_START = '<!DOCTYPE html><html lang=\"en\"><head><meta charset=\"UTF-8\"></head><body>'\n",
    "\n",
    "\n",
    "start_tag_template = '<div style=\"border:2px; display:inline; border-style: solid; border-color: {}; padding: 10px; padding-right: 3px; padding-left: 3px\">'\n",
    "\n",
    "entity_tag = start_tag_template.format('#0066CC')\n",
    "event_tag = start_tag_template.format('violet')\n",
    "\n",
    "end_tag = '</div>'\n"
   ]
  },
  {
   "cell_type": "code",
   "execution_count": null,
   "metadata": {},
   "outputs": [],
   "source": [
    "for split in splits:\n",
    "    print(f\"Processing {split.capitalize()}\")\n",
    "    # Read the source doc\n",
    "    split_file = path.join(input_file, suffix.format(split))\n",
    "    \n",
    "    with open(split_file) as f:\n",
    "        for line in f:\n",
    "            instance = json.loads(line.strip())\n",
    "            \n",
    "            doc = [] \n",
    "            for sentence in instance[\"sentences\"]:\n",
    "                doc.extend(sentence)\n",
    "    \n",
    "            html_tag_list = {}\n",
    "\n",
    "            # Get all the entity info\n",
    "            for cluster in instance[\"clusters\"]:\n",
    "                for mention in cluster:\n",
    "                    span_start, span_end, ent_type = mention\n",
    "                    ent_type = IDX_TO_ELEM_TYPE[ent_type]\n",
    "                    if ent_type == 'ENTITY':\n",
    "                        start_tag = entity_tag\n",
    "                    elif ent_type == 'EVENT':\n",
    "                        start_tag = event_tag\n",
    "\n",
    "                    if span_start not in html_tag_list:\n",
    "                        html_tag_list[span_start] = defaultdict(list)\n",
    "                    if span_end not in html_tag_list:\n",
    "                        html_tag_list[span_end] = defaultdict(list)\n",
    "\n",
    "                    subscript = ''\n",
    "                    for idx, (cluster_type, cluster_idx) in enumerate(cluster_info):\n",
    "                        if idx > 0:\n",
    "                            subscript += \", \"\n",
    "                        subscript += cluster_type + \" \" + str(cluster_idx)\n",
    "\n",
    "\n",
    "                html_tag_list[span_start]['start'].append((mention, start_tag, ''))\n",
    "                # Subscript used in end\n",
    "                html_tag_list[span_end]['end'].append((mention, end_tag, subscript))\n",
    "\n",
    "\n",
    "            html_string = HTML_START + '<div style=\"line-height: 3\">'\n",
    "\n",
    "            offset = 0 \n",
    "            counter = 0\n",
    "            source_str = source_str.replace(\"<\", \"~\")\n",
    "            source_str = source_str.replace(\">\", \"^\")\n",
    "\n",
    "            # This list acts like a stack. We push the new mentions based on start tag\n",
    "            # and remove the mentions in the order of most recent to least recent.\n",
    "            mentions_processed = []\n",
    "\n",
    "            for idx, token in enumerate(source_str):\n",
    "                if idx in html_tag_list:\n",
    "                    for tag_type in ['end', 'start']:\n",
    "                        if tag_type == 'end' and (tag_type in html_tag_list[idx]):\n",
    "                            tags = html_tag_list[idx]['end']\n",
    "\n",
    "                            tags = [(mentions_processed.index(mention), html_tag, cluster_idx) \n",
    "                                   for mention, html_tag, cluster_idx in tags]\n",
    "                            # Sort the tags so as to mimic the stack behavior\n",
    "                            tags = sorted(tags, key=lambda x: x[0], reverse=True)  # Highest mentions first\n",
    "                            for mention_idx, html_tag, cluster_info in tags:\n",
    "                                html_string += \"<sub>\" + cluster_info + \"</sub>\" \n",
    "                                html_string += html_tag\n",
    "                                # Since we are deleting the highest indices first, the lower indices are unaffected\n",
    "                                del mentions_processed[mention_idx]\n",
    "\n",
    "                        if tag_type == 'start' and (tag_type in html_tag_list[idx]):\n",
    "                            for mention_id, html_tag, cluster_idx in html_tag_list[idx]['start']:\n",
    "                                # Add the mention_id to the current list of active mentions\n",
    "                                mentions_processed.append(mention_id)\n",
    "                                html_string += html_tag\n",
    "\n",
    "                html_string += token\n",
    "\n",
    "            html_string += \"</div></body></html>\"\n",
    "            html_string = html_string.replace(\"\\n\", \"\\n<br/>\")\n",
    "            html_string = html_string.replace(\"~\", \"&lt;\")\n",
    "            html_string = html_string.replace(\"^\", \"&gt;\")\n",
    "            with open(path.join(output_dir, base_name + \".html\"), \"w\") as f:\n",
    "                f.write(html_string)"
   ]
  }
 ],
 "metadata": {
  "kernelspec": {
   "display_name": "Python [conda env:events] *",
   "language": "python",
   "name": "conda-env-events-py"
  },
  "language_info": {
   "codemirror_mode": {
    "name": "ipython",
    "version": 3
   },
   "file_extension": ".py",
   "mimetype": "text/x-python",
   "name": "python",
   "nbconvert_exporter": "python",
   "pygments_lexer": "ipython3",
   "version": "3.8.3"
  }
 },
 "nbformat": 4,
 "nbformat_minor": 4
}
