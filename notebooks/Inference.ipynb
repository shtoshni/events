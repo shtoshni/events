{
 "cells": [
  {
   "cell_type": "code",
   "execution_count": 1,
   "metadata": {},
   "outputs": [],
   "source": [
    "import sys\n",
    "sys.path.append(\"/home/shtoshni/Research/events/src\")\n",
    "\n",
    "from inference.main import Inference"
   ]
  },
  {
   "cell_type": "code",
   "execution_count": 2,
   "metadata": {},
   "outputs": [],
   "source": [
    "model_path = \"/home/shtoshni/Research/events/models/events_kbp_2015_4eaa5896f60608d2a5179f58e52ed873/best_models/model.pth\""
   ]
  },
  {
   "cell_type": "code",
   "execution_count": 3,
   "metadata": {},
   "outputs": [],
   "source": [
    "model = Inference(model_path)"
   ]
  },
  {
   "cell_type": "code",
   "execution_count": 4,
   "metadata": {},
   "outputs": [
    {
     "data": {
      "text/plain": [
       "{'tokenized_doc': {'doc_type': 1,\n",
       "  'sentences': [['The', 'judge', 'ordered', 'his', 'execution']],\n",
       "  'sentence_map': [0, 0, 0, 0, 0],\n",
       "  'subtoken_map': [0, 1, 2, 3, 4]},\n",
       " 'clusters': [[((4, 4), 'execution', 'justice_execute')]],\n",
       " 'mentions': [(4, 4, 'execution', 'justice_execute')],\n",
       " 'actions': [(0, 'o')]}"
      ]
     },
     "execution_count": 4,
     "metadata": {},
     "output_type": "execute_result"
    }
   ],
   "source": [
    "model.perform_coreference(\"The judge ordered his execution\")"
   ]
  }
 ],
 "metadata": {
  "kernelspec": {
   "display_name": "Python [conda env:events] *",
   "language": "python",
   "name": "conda-env-events-py"
  },
  "language_info": {
   "codemirror_mode": {
    "name": "ipython",
    "version": 3
   },
   "file_extension": ".py",
   "mimetype": "text/x-python",
   "name": "python",
   "nbconvert_exporter": "python",
   "pygments_lexer": "ipython3",
   "version": "3.8.3"
  }
 },
 "nbformat": 4,
 "nbformat_minor": 4
}
