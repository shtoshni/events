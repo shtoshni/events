{
 "cells": [
  {
   "cell_type": "code",
   "execution_count": 236,
   "metadata": {},
   "outputs": [],
   "source": [
    "import xml\n",
    "import xml.etree.ElementTree as ET\n",
    "import os\n",
    "from os import path\n",
    "import glob\n",
    "from collections import defaultdict, OrderedDict\n",
    "import spacy\n",
    "import json"
   ]
  },
  {
   "cell_type": "code",
   "execution_count": 154,
   "metadata": {},
   "outputs": [],
   "source": [
    "spacy_nlp = spacy.load('en_core_web_lg')"
   ]
  },
  {
   "cell_type": "code",
   "execution_count": 199,
   "metadata": {},
   "outputs": [],
   "source": [
    "def get_ent_info(xml_root):\n",
    "    ent_map = {}\n",
    "    ent_list = []\n",
    "\n",
    "    for elem in xml_root.iter('entity'):\n",
    "        span_str = list(elem.iter('span'))[0].text\n",
    "        span_start, span_end = [int(endpoint) for endpoint in span_str.split(\",\")]\n",
    "        elem_id = list(elem.iter('id'))[0].text\n",
    "        elem_type = list(elem.iter('type'))[0].text\n",
    "\n",
    "        if elem_type == 'ENTITY' or elem_type == 'EVENT':\n",
    "            ent_map[elem_id] = (elem_type, (span_start, span_end))\n",
    "            ent_list.append([(span_start, span_end), elem_id])\n",
    "            \n",
    "    # Sort entity list on the basis of span start index\n",
    "    ent_list = sorted(ent_list, key=lambda x: x[0][0])  \n",
    "    \n",
    "    return ent_map, ent_list"
   ]
  },
  {
   "cell_type": "code",
   "execution_count": 200,
   "metadata": {},
   "outputs": [],
   "source": [
    "def get_clusters_from_xml(xml_root, ent_map):\n",
    "    clusters = []\n",
    "    for elem in xml_root.iter('relation'):\n",
    "        elem_type = list(elem.iter('type'))[0].text\n",
    "        if elem_type == 'IDENTICAL':\n",
    "            # Initiate new cluster\n",
    "            new_cluster = []\n",
    "            elem_props = list(elem.iter('properties'))[0]\n",
    "\n",
    "            for sub_elem in elem_props.iter():\n",
    "                if sub_elem.tag == 'FirstInstance' or sub_elem.tag == 'Coreferring_String':\n",
    "                    ent_id = sub_elem.text\n",
    "                    assert(ent_id in ent_map)\n",
    "                    new_cluster.append(ent_id)\n",
    "\n",
    "            clusters.append(new_cluster)\n",
    "            \n",
    "    return clusters"
   ]
  },
  {
   "cell_type": "code",
   "execution_count": 201,
   "metadata": {},
   "outputs": [],
   "source": [
    "def tokenize_string(string):\n",
    "    string = string.strip()\n",
    "    if string == \"\":\n",
    "        return []\n",
    "    else:\n",
    "        doc = spacy_nlp(string)\n",
    "        tokenized_sent = [token.text for token in doc if token.text.strip() != '']\n",
    "        return tokenized_sent"
   ]
  },
  {
   "cell_type": "code",
   "execution_count": 190,
   "metadata": {},
   "outputs": [],
   "source": [
    "def tokenize_doc(doc_str, ent_list):\n",
    "    \"\"\"Tokenizes a document given in string format.\n",
    "    doc_str: Document string\n",
    "    ent_list: List of entities with each entry being ((span_start, span_end), ent_id) \n",
    "        where spans are provided in the character space.\n",
    "    \n",
    "    Returns:\n",
    "    tokenized_doc: List of tokens\n",
    "    ent_id_to_token_spans: Entity ID to span indices in token space.\n",
    "    \"\"\"\n",
    "    tokenized_doc = []\n",
    "    token_counter = 0  \n",
    "    char_offset = 0  # Till what point has the document been processed\n",
    "    ent_id_to_token_spans = OrderedDict()\n",
    "\n",
    "    for (span_start, span_end), ent_id in ent_list:\n",
    "        # Tokenize the string before the span and after the last span\n",
    "        before_span_str = source_str[char_offset: span_start]\n",
    "        before_span_tokens = tokenize_string(before_span_str)\n",
    "        tokenized_doc.extend(before_span_tokens)\n",
    "        token_counter += len(before_span_tokens)\n",
    "\n",
    "        # Tokenize the span\n",
    "        span_tokens = tokenize_string(source_str[span_start: span_end])\n",
    "        ent_id_to_token_spans[ent_id] = (token_counter, token_counter + len(span_tokens))\n",
    "        tokenized_doc.extend(span_tokens)\n",
    "        char_offset = span_end\n",
    "        token_counter += len(span_tokens)\n",
    "\n",
    "    # Add the tokens after the last span\n",
    "    rem_doc = doc_str[char_offset:]\n",
    "    rem_tokens = tokenize_string(rem_doc)\n",
    "    token_counter += len(rem_tokens)\n",
    "\n",
    "    tokenized_doc.extend(rem_tokens)\n",
    "    \n",
    "    return tokenized_doc, ent_id_to_token_spans"
   ]
  },
  {
   "cell_type": "code",
   "execution_count": 202,
   "metadata": {},
   "outputs": [],
   "source": [
    "def get_cluster_spans(clusters_ent_id, ent_id_to_token_spans):\n",
    "    clusters = []\n",
    "    for cluster in clusters_ent_id:\n",
    "        cluster_spans = []\n",
    "        for ent_id in cluster:\n",
    "            cluster_spans.append(ent_id_to_token_spans[ent_id])\n",
    "        clusters.append(cluster_spans)\n",
    "        \n",
    "    return clusters"
   ]
  },
  {
   "cell_type": "code",
   "execution_count": 203,
   "metadata": {},
   "outputs": [],
   "source": [
    "def get_dummy_speaker(tokenized_sents):\n",
    "    speakers = []\n",
    "    for sent in tokenized_sents:\n",
    "        speakers.append([\"spk1\"] * len(sent))\n",
    "    return speakers"
   ]
  },
  {
   "cell_type": "code",
   "execution_count": 251,
   "metadata": {},
   "outputs": [],
   "source": [
    "source_file = \"/home/shtoshni/Research/events/data/red/data/source/deft/NYT_ENG_20130426.0143\"\n",
    "source_str  = \"\".join(open(source_file).readlines())\n",
    "# source_str  = source_str.replace(\"\\n\", \" \")\n",
    "\n",
    "base_name = path.basename(source_file)\n",
    "dir_name = path.basename(path.dirname(source_file))\n",
    "\n",
    "ann_file = path.join(path.join(ann_dir, dir_name), base_name + \".RED-Relation.gold.completed.xml\")\n",
    "tree = ET.parse(ann_file)\n",
    "root = tree.getroot()\n",
    "\n",
    "ent_map, ent_list = get_ent_info(root)\n",
    "clusters_ent_id = get_clusters_from_xml(root, ent_map)\n",
    "\n",
    "tokenized_doc, ent_id_to_token_spans = tokenize_doc(source_str, ent_list)\n",
    "tokenized_str = \" \".join(tokenized_doc)\n",
    "\n",
    "# TODO (ReTokenize the sentence using spacy)\n",
    "# Match the # of before and after tokens\n",
    "\n",
    "cluster_spans = get_cluster_spans(clusters_ent_id, ent_id_to_token_spans)\n",
    "\n",
    "doc_info = {}\n",
    "doc_info[\"doc_key\"] = base_name\n",
    "doc_info[\"sentences\"] = tokenized_sents\n",
    "doc_info[\"clusters\"] = cluster_spans\n",
    "doc_info[\"speakers\"] = get_dummy_speaker(tokenized_sents)\n",
    "\n",
    "# print(doc_info)"
   ]
  },
  {
   "cell_type": "code",
   "execution_count": 252,
   "metadata": {},
   "outputs": [
    {
     "name": "stdout",
     "output_type": "stream",
     "text": [
      "< DOC id=\"NYT_ENG_20130426.0143 \" type=\"story \" from_file=\"/newswire / daily_process / nyt / english / source_data/20130426/20130426,90f99e6a52944168fef63819315c0b2e.xml \" > < HEADLINE > GEORGE JONES IN REAL LIFE AND REAL TIME < /HEADLINE > < TEXT > < P > Early in 1977 , a couple of years after he and Tammy Wynette had divorced , the country music star George Jones played a show at the Stardust Inn in Waldorf , Md. , his first in the Washington area in several years . I was then a young pop music critic at The Washington Post , so it fell to me to write a profile of the notoriously hard- drinking singer . < /P > < P > What followed was an experience so intense , so remarkable for its raw emotional force , that I could not help but think of it Friday , when it was announced that Jones had died in a Nashville , Tenn. , hospital at the age of 81 . That weekend I learned two important things about Jones : that there was very little distance between him and his songs , and that the same qualities that made him a great artist also made his life a torment . < /P > < P > In those days he was still unashamedly carrying a torch for Wynette , who had left him because , as she put it in legal papers she filed , he “ drinks to such an extent that he becomes completely and absolutely unmanageable . ” On stage that weekend , he reworked songs like “ She Thinks I Still Care ” and “ Picture Me Without You ” so that they included references to her , making them almost embarrassingly personal , as if she were in the audience and he was singing only to her . < /P > < P > But it was on his tour bus between sets that I saw George Jones more achingly and nakedly vulnerable than any performer I have ever encountered , before or since that night . He was dressed in a flashy leisure suit and wore a pair of glittering diamond rings on his left hand , including one with his initials , but as he talked about Wynette and how much he still loved her , he began to weep . < /P > < P > I do n’t think he was drunk . He talked about how he was trying to stay dry for Tammy , who by that time had already re - married and divorced again . Within a year or two , he would develop a cocaine habit that would send his career off the rails , but there was no sign of that either . This was just George Jones in real life and real time . < /P > < P > It is hard today , in a time when irony has become a dominant cultural mode and artists are screened from reporters by phalanxes of handlers , to imagine so public a breakdown happening or a celebrity letting his pain be so visible . But Jones was n’t ashamed or embarrassed by that display , and when he went back to the stage for a second set of what he described to me as “ sad , sloppy tear - jerkers , ” his singing was even more passionate and inspired , with his twangy , somewhat nasal voice cracking in all the right places with what had to be genuine feeling , not artifice . < /P > < P > Over a career that lasted nearly 60 years , Jones recorded more than 100 albums , and over and over again , he did n’t just sing the songs that were given to him . In the best of his recordings , as on that night , he also inhabited them , so that anyone listening to him could be sure : He really means it , he has really lived this song about heartbreak or hangovers and knows what it means , poor soul . < /P > < P > As someone who grew up in Chicago listening mostly to the blues , I had no special fondness for country music , whose only local outlet in those days was the radio station WJJD . But seeing George Jones live for the first time that cold night in southern Maryland was a revelation , because in his own highly idiosyncratic way he showed himself to be no less soulful a singer than Howlin ’ Wolf on something like “ How Many More Years ” or Otis Redding on “ I ’ve Been Loving You Too Long . ” < /P > < P > Despite all the drinking and drug binges that would dog his career , Jones never lost that gift . In 2009 , assigned to write a profile of the Canadian singer- songwriter Leonard Cohen for this newspaper , I walked into Cohen ’s New York hotel suite to find him playing one of Jones ’ late - career gems , “ Choices , ” on his iPod . Cohen expressed great admiration for Jones and then recited one of the song ’s most powerful verses : < /P > < P > I was tempted < /P > < P > By an early age I found < /P > < P > I liked drinkin ’ < /P > < P > Oh , and I never turned it down < /P > < P > There were loved ones < /P > < P > But I turned them all away < /P > < P > Now I ’ m living and dying < /P > < P > With the choices I made < /P > < P > @In part because of his consistent “ nipping , ” as he called it , Jones never enjoyed the crossover success of his contemporaries Johnny Cash and Merle Haggard , and so his passing will probably not have the broad cultural resonance that Cash ’s did . But he was , hands down , a superior singer , a fact obvious to everyone in the country music field : As Waylon Jennings once sang , “ If we all could sound like we wanted to , we ’d all sound like George Jones . ” < /P > < P > But even within the confines of “ pure country , ” whatever that term might mean today , Jones did not stand still . He began his career very much in the mold of his idol Hank Williams , singing tunes about honky - tonks and carousing . He never lost his affection for that genre , but over the years he also evolved into a master of ballad singing , especially on his duets with Melba Montgomery and Wynette , both before and after they were married . < /P > < P > And though a brief late ‘ 50s flirtation with rockabilly did n’t pan out , Jones also knew how to rock . It ’s almost forgotten now , but he and Elvis Presley once were co - headliners on a Louisiana Hayride tour , and generations of rock ' n ’ roll bands , including ones I played in , have covered songs like “ Why Baby Why , ” “ White Lightning ” and “ The Race Is On ” and found them to be guaranteed crowd- pleasers . < /P > < P > Beginning in the 1980s , Jones , with the help of his fourth wife , Nancy Sepulvedo , pulled himself out of his tailspin . But by then the country music mainstream had begun to move on to more polished styles , and Jones ’ visceral approach fell out of fashion . In recent years , Jones had thought of himself as a relic , and expressed bitterness at what he saw as the disregard for what he represented . All that may be true , but it ca n’t – and does n’t – dim the magnificence of his achievements , any more than his personal weaknesses and demons did . < /P > < /TEXT > < /DOC >\n"
     ]
    }
   ],
   "source": [
    "# print(len(tokenized_sents))\n",
    "tokenized_str = tokenized_str.strip()\n",
    "print(tokenized_str)"
   ]
  },
  {
   "cell_type": "code",
   "execution_count": 250,
   "metadata": {},
   "outputs": [
    {
     "name": "stdout",
     "output_type": "stream",
     "text": [
      "< DOC id=\"NYT_ENG_20130426.0143 \" type=\"story \" from_file=\"/newswire / daily_process / nyt / english / source_data/20130426/20130426,90f99e6a52944168fef63819315c0b2e.xml \" > < HEADLINE > GEORGE JONES IN REAL LIFE AND REAL TIME < /HEADLINE > < TEXT > < P > Early in 1977 , a couple of years after he and Tammy Wynette had divorced , the country music star George Jones played a show at the Stardust Inn in Waldorf , Md. , his first in the Washington area in several years . I was then a young pop music critic at The Washington Post , so it fell to me to write a profile of the notoriously hard- drinking singer . < /P > < P > What followed was an experience so intense , so remarkable for its raw emotional force , that I could not help but think of it Friday , when it was announced that Jones had died in a Nashville , Tenn. , hospital at the age of 81 . That weekend I learned two important things about Jones : that there was very little distance between him and his songs , and that the same qualities that made him a great artist also made his life a torment . < /P > < P > In those days he was still unashamedly carrying a torch for Wynette , who had left him because , as she put it in legal papers she filed , he “ drinks to such an extent that he becomes completely and absolutely unmanageable . ” On stage that weekend , he reworked songs like “ She Thinks I Still Care ” and “ Picture Me Without You ” so that they included references to her , making them almost embarrassingly personal , as if she were in the audience and he was singing only to her . < /P > < P > But it was on his tour bus between sets that I saw George Jones more achingly and nakedly vulnerable than any performer I have ever encountered , before or since that night . He was dressed in a flashy leisure suit and wore a pair of glittering diamond rings on his left hand , including one with his initials , but as he talked about Wynette and how much he still loved her , he began to weep . < /P > < P > I do n’t think he was drunk . He talked about how he was trying to stay dry for Tammy , who by that time had already re - married and divorced again . Within a year or two , he would develop a cocaine habit that would send his career off the rails , but there was no sign of that either . This was just George Jones in real life and real time . < /P > < P > It is hard today , in a time when irony has become a dominant cultural mode and artists are screened from reporters by phalanxes of handlers , to imagine so public a breakdown happening or a celebrity letting his pain be so visible . But Jones was n’t ashamed or embarrassed by that display , and when he went back to the stage for a second set of what he described to me as “ sad , sloppy tear - jerkers , ” his singing was even more passionate and inspired , with his twangy , somewhat nasal voice cracking in all the right places with what had to be genuine feeling , not artifice . < /P > < P > Over a career that lasted nearly 60 years , Jones recorded more than 100 albums , and over and over again , he did n’t just sing the songs that were given to him . In the best of his recordings , as on that night , he also inhabited them , so that anyone listening to him could be sure : He really means it , he has really lived this song about heartbreak or hangovers and knows what it means , poor soul . < /P > < P > As someone who grew up in Chicago listening mostly to the blues , I had no special fondness for country music , whose only local outlet in those days was the radio station WJJD . But seeing George Jones live for the first time that cold night in southern Maryland was a revelation , because in his own highly idiosyncratic way he showed himself to be no less soulful a singer than Howlin ’ Wolf on something like “ How Many More Years ” or Otis Redding on “ I ’ve Been Loving You Too Long . ” < /P > < P > Despite all the drinking and drug binges that would dog his career , Jones never lost that gift . In 2009 , assigned to write a profile of the Canadian singer- songwriter Leonard Cohen for this newspaper , I walked into Cohen ’s New York hotel suite to find him playing one of Jones ’ late - career gems , “ Choices , ” on his iPod . Cohen expressed great admiration for Jones and then recited one of the song ’s most powerful verses : < /P > < P > I was tempted < /P > < P > By an early age I found < /P > < P > I liked drinkin ’ < /P > < P > Oh , and I never turned it down < /P > < P > There were loved ones < /P > < P > But I turned them all away < /P > < P > Now I ’ m living and dying < /P > < P > With the choices I made < /P > < P > @In part because of his consistent “ nipping , ” as he called it , Jones never enjoyed the crossover success of his contemporaries Johnny Cash and Merle Haggard , and so his passing will probably not have the broad cultural resonance that Cash ’s did . But he was , hands down , a superior singer , a fact obvious to everyone in the country music field : As Waylon Jennings once sang , “ If we all could sound like we wanted to , we ’d all sound like George Jones . ” < /P > < P > But even within the confines of “ pure country , ” whatever that term might mean today , Jones did not stand still . He began his career very much in the mold of his idol Hank Williams , singing tunes about honky - tonks and carousing . He never lost his affection for that genre , but over the years he also evolved into a master of ballad singing , especially on his duets with Melba Montgomery and Wynette , both before and after they were married . < /P > < P > And though a brief late ‘ 50s flirtation with rockabilly did n’t pan out , Jones also knew how to rock . It ’s almost forgotten now , but he and Elvis Presley once were co - headliners on a Louisiana Hayride tour , and generations of rock ' n ’ roll bands , including ones I played in , have covered songs like “ Why Baby Why , ” “ White Lightning ” and “ The Race Is On ” and found them to be guaranteed crowd- pleasers . < /P > < P > Beginning in the 1980s , Jones , with the help of his fourth wife , Nancy Sepulvedo , pulled himself out of his tailspin . But by then the country music mainstream had begun to move on to more polished styles , and Jones ’ visceral approach fell out of fashion . In recent years , Jones had thought of himself as a relic , and expressed bitterness at what he saw as the disregard for what he represented . All that may be true , but it ca n’t – and does n’t – dim the magnificence of his achievements , any more than his personal weaknesses and demons did . < /P > < /TEXT > < /DOC >\n",
      "1394\n"
     ]
    }
   ],
   "source": [
    "retokenized_str = \"\"\n",
    "doc = spacy_nlp(tokenized_str)\n",
    "for sent in doc.sents:\n",
    "    retokenized_str += sent.text + \" \"\n",
    "\n",
    "retokenized_str = retokenized_str.strip()\n",
    "print(retokenized_str)\n",
    "retokenized_tokens = retokenized_str.split()\n",
    "# print(retokenized_tokens)\n",
    "print(len(retokenized_tokens))"
   ]
  },
  {
   "cell_type": "code",
   "execution_count": null,
   "metadata": {},
   "outputs": [],
   "source": [
    "def load_splits_file(list_file):\n",
    "    return set([file_name.strip() for file_name in open(list_file).readlines()])"
   ]
  },
  {
   "cell_type": "code",
   "execution_count": 241,
   "metadata": {},
   "outputs": [],
   "source": [
    "data_dir = \"/home/shtoshni/Research/events/data/red/data/source\"\n",
    "source_files = glob.glob(\"{}/*/*\".format(data_dir))\n",
    "\n",
    "ann_dir = \"/home/shtoshni/Research/events/data/red/data/annotation\"\n",
    "ann_files = glob.glob(\"{}/*/*\".format(ann_dir))\n",
    "\n",
    "# Load the file splits\n",
    "dev_list_file = \"/home/shtoshni/Research/events/data/red/docs/dev.txt\"\n",
    "dev_set = load_splits_file(dev_list_file)\n",
    "\n",
    "test_list_file = \"/home/shtoshni/Research/events/data/red/docs/test.txt\"\n",
    "test_set = load_splits_file(test_list_file)\n",
    "\n",
    "# Output directory\n",
    "output_dir = \"/home/shtoshni/Research/events/data/red/split\""
   ]
  },
  {
   "cell_type": "code",
   "execution_count": 245,
   "metadata": {},
   "outputs": [
    {
     "name": "stdout",
     "output_type": "stream",
     "text": [
      "85\n"
     ]
    }
   ],
   "source": [
    "print(len(source_files[-2]))"
   ]
  },
  {
   "cell_type": "code",
   "execution_count": 256,
   "metadata": {},
   "outputs": [
    {
     "name": "stdout",
     "output_type": "stream",
     "text": [
      "deft/NYT_ENG_20130426.0143\n",
      "1394\n",
      "6451\n"
     ]
    }
   ],
   "source": [
    "train_data = []\n",
    "dev_data = []\n",
    "test_data = []\n",
    "\n",
    "for source_file in source_files[:2]:\n",
    "    # Read the source doc\n",
    "    source_lines = open(source_file).readlines()\n",
    "    doc_str = \"\".join(source_lines)\n",
    "    \n",
    "    # Read the annotation file\n",
    "    base_name = path.basename(source_file)\n",
    "    dir_name = path.basename(path.dirname(source_file))\n",
    "    red_file_name = path.join(dir_name, base_name)\n",
    "    print(red_file_name)\n",
    "    \n",
    "    ann_file = path.join(path.join(ann_dir, dir_name), base_name + \".RED-Relation.gold.completed.xml\")    \n",
    "    tree = ET.parse(ann_file)\n",
    "    root = tree.getroot()\n",
    "    \n",
    "    # Get entity and cluster information from the annotation file\n",
    "    ent_map, ent_list = get_ent_info(root)\n",
    "    clusters_ent_id = get_clusters_from_xml(root, ent_map)\n",
    "    \n",
    "    # Tokenize the doc\n",
    "    tokenized_doc, ent_id_to_token_spans = tokenize_doc(doc_str, ent_list)\n",
    "    \n",
    "    # Break the document into sentences.\n",
    "    tokenized_sents = []\n",
    "    tokenized_doc_str = \" \".join(tokenized_doc)\n",
    "    reproc_doc = spacy_nlp(tokenized_doc_str)\n",
    "    for sent in reproc_doc.sents:\n",
    "        sent_text = sent.text\n",
    "#         tokenized_sents.append(sent_text.split())\n",
    "        tokenized_sents.append(sent_text)\n",
    "    cluster_spans = get_cluster_spans(clusters_ent_id, ent_id_to_token_spans)\n",
    "    \n",
    "#     try:\n",
    "#         # Check the retokenized doc is same as tokenized doc\n",
    "#         retokenized_doc = []\n",
    "#         for sent in tokenized_sents:\n",
    "#             retokenized_doc.extend(sent)\n",
    "#         assert(tokenized_doc == retokenized_doc)\n",
    "#     except AssertionError:\n",
    "#         print(len(tokenized_doc))\n",
    "#         print(len(retokenized_doc))\n",
    "#         break\n",
    "\n",
    "    doc_info = {}\n",
    "    doc_info[\"doc_key\"] = red_file_name\n",
    "    doc_info[\"sentences\"] = tokenized_sents\n",
    "    doc_info[\"clusters\"] = cluster_spans\n",
    "    doc_info[\"speakers\"] = get_dummy_speaker(tokenized_sents)\n",
    "    \n",
    "    file_name = path.join(dir_name, base_name)\n",
    "    if red_file_name in dev_set:\n",
    "        dev_data.append(doc_info)\n",
    "    elif red_file_name in test_set:\n",
    "        test_data.append(doc_info)\n",
    "    else:\n",
    "        train_data.append(doc_info)"
   ]
  },
  {
   "cell_type": "code",
   "execution_count": 257,
   "metadata": {},
   "outputs": [],
   "source": [
    "for split, data in zip(['train', 'dev', 'test'], [train_data, dev_data, test_data]):\n",
    "    with open(path.join(output_dir, \"{}.english.jsonlines\".format(split)), 'w') as f:\n",
    "        for instance in data:\n",
    "            f.write(json.dumps(instance) + \"\\n\")"
   ]
  }
 ],
 "metadata": {
  "kernelspec": {
   "display_name": "Python [conda env:narrative_10]",
   "language": "python",
   "name": "conda-env-narrative_10-py"
  },
  "language_info": {
   "codemirror_mode": {
    "name": "ipython",
    "version": 3
   },
   "file_extension": ".py",
   "mimetype": "text/x-python",
   "name": "python",
   "nbconvert_exporter": "python",
   "pygments_lexer": "ipython3",
   "version": "3.7.2"
  }
 },
 "nbformat": 4,
 "nbformat_minor": 2
}
