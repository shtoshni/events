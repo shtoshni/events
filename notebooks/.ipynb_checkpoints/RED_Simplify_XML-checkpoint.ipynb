{
 "cells": [
  {
   "cell_type": "code",
   "execution_count": 1,
   "metadata": {},
   "outputs": [],
   "source": [
    "import xml\n",
    "import xml.etree.ElementTree as ET\n",
    "import os\n",
    "from os import path\n",
    "import glob\n",
    "from collections import defaultdict"
   ]
  },
  {
   "cell_type": "code",
   "execution_count": 2,
   "metadata": {},
   "outputs": [],
   "source": [
    "data_dir = \"/home/shtoshni/Research/events/data/red/data/source\"\n",
    "source_files = glob.glob(\"{}/*/*\".format(data_dir))\n",
    "\n",
    "ann_dir = \"/home/shtoshni/Research/events/data/red/data/annotation\"\n",
    "ann_files = glob.glob(\"{}/*/*\".format(ann_dir))\n",
    "\n",
    "output_dir = \"/home/shtoshni/Research/events/data/red/data/simpler_annotation\""
   ]
  },
  {
   "cell_type": "code",
   "execution_count": 3,
   "metadata": {},
   "outputs": [],
   "source": [
    "for source_file in source_files:\n",
    "    # Read the source doc\n",
    "    source_lines = open(source_file).readlines()\n",
    "    source_str = \"\".join(source_lines)\n",
    "    \n",
    "    # Read the annotation file\n",
    "    base_name = path.basename(source_file)\n",
    "    dir_name = path.basename(path.dirname(source_file))\n",
    "    \n",
    "    ann_file = path.join(path.join(ann_dir, dir_name), base_name + \".RED-Relation.gold.completed.xml\")\n",
    "    subdirectory = path.join(output_dir, dir_name)\n",
    "    output_file = path.join(subdirectory, base_name + \".RED-Relation.gold.completed.xml\")\n",
    "    \n",
    "    if not os.path.exists(subdirectory):\n",
    "        os.makedirs(subdirectory)\n",
    "\n",
    "    tree = ET.parse(ann_file)\n",
    "    root = tree.getroot()\n",
    "    \n",
    "    entity_id_to_text = {}\n",
    "    for elem in root.iter('entity'):\n",
    "        span_str = list(elem.iter('span'))[0].text\n",
    "        span_start, span_end = [int(endpoint) for endpoint in span_str.split(\",\")]\n",
    "        elem_type = list(elem.iter('id'))[0]        \n",
    "        entity_id_to_text[elem_type.text] = (source_str[span_start:span_end], source_str[span_start-15:span_end+15])\n",
    "        \n",
    "    for elem in root.iter():\n",
    "        if elem.text in entity_id_to_text:\n",
    "            elem.set('context', entity_id_to_text[elem.text][1])\n",
    "            elem.set('text', entity_id_to_text[elem.text][0])\n",
    "\n",
    "            \n",
    "    tree.write(output_file)"
   ]
  }
 ],
 "metadata": {
  "kernelspec": {
   "display_name": "Python [conda env:narrative_10]",
   "language": "python",
   "name": "conda-env-narrative_10-py"
  },
  "language_info": {
   "codemirror_mode": {
    "name": "ipython",
    "version": 3
   },
   "file_extension": ".py",
   "mimetype": "text/x-python",
   "name": "python",
   "nbconvert_exporter": "python",
   "pygments_lexer": "ipython3",
   "version": "3.7.2"
  }
 },
 "nbformat": 4,
 "nbformat_minor": 2
}
