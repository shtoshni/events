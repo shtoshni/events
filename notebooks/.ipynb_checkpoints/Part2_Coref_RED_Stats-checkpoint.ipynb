{
 "cells": [
  {
   "cell_type": "code",
   "execution_count": 32,
   "metadata": {},
   "outputs": [],
   "source": [
    "import xml\n",
    "import xml.etree.ElementTree as ET\n",
    "import os\n",
    "from os import path\n",
    "import glob\n",
    "from collections import defaultdict, Counter\n",
    "import numpy as np\n",
    "\n",
    "from utils import get_ent_info, get_clusters_from_xml"
   ]
  },
  {
   "cell_type": "code",
   "execution_count": 33,
   "metadata": {},
   "outputs": [],
   "source": [
    "data_dir = \"/home/shtoshni/Research/events/data/red/data/source\"\n",
    "source_files = glob.glob(\"{}/*/*\".format(data_dir))\n",
    "\n",
    "ann_dir = \"/home/shtoshni/Research/events/data/red/data/mod_annotation\"\n",
    "ann_files = glob.glob(\"{}/*/*\".format(ann_dir))\n",
    "\n",
    "output_dir = \"/home/shtoshni/Research/events/data/red/error_logs\"\n",
    "if not path.exists(output_dir):\n",
    "    os.makedirs(output_dir)"
   ]
  },
  {
   "cell_type": "markdown",
   "metadata": {},
   "source": [
    "## Calculate Types of Coref Chains"
   ]
  },
  {
   "cell_type": "code",
   "execution_count": 34,
   "metadata": {},
   "outputs": [
    {
     "name": "stdout",
     "output_type": "stream",
     "text": [
      "TemporalRelations\n",
      "\tTLINK\t4209\n",
      "\tALINK\t136\n",
      "\n",
      "CorefChains\n",
      "\tIDENTICAL\t2049\n",
      "\tWHOLE/PART\t515\n",
      "\tSET/MEMBER\t947\n",
      "\tAPPOSITIVE\t303\n",
      "\tBRIDGING\t383\n",
      "\tREPORTING\t596\n",
      "\n",
      "\n",
      "\n",
      "TLINK\tSource\tType\tTarget\tPolarity\tContextualModality\tDifficulty\n",
      "\t4209\t4209\t4209\t4209\t4209\t4209\n",
      "IDENTICAL\tFirstInstance\tCoreferring_String\n",
      "\t2049\t6512\n",
      "WHOLE/PART\tWhole\tPart\n",
      "\t515\t815\n",
      "SET/MEMBER\tSet\tMember\n",
      "\t947\t1614\n",
      "ALINK\tSource\tType\tTarget\tDifficulty\n",
      "\t136\t136\t136\t136\n",
      "APPOSITIVE\tHead\tAttribute\n",
      "\t303\t303\n",
      "BRIDGING\tArgument\tRelated_to\tFirstInstance\tCoreferring_String\n",
      "\t381\t433\t2\t2\n",
      "REPORTING\tReport\tEvent\n",
      "\t596\t1334\n"
     ]
    }
   ],
   "source": [
    "parents_type = defaultdict(Counter)\n",
    "type_properties = defaultdict(Counter)\n",
    "\n",
    "for source_file in source_files:\n",
    "    # Read the source doc\n",
    "    source_lines = open(source_file).readlines()\n",
    "    source_str = \"\".join(source_lines)\n",
    "    \n",
    "    # Read the annotation file\n",
    "    base_name = path.basename(source_file)\n",
    "    dir_name = path.basename(path.dirname(source_file))\n",
    "    \n",
    "    ann_file = path.join(path.join(ann_dir, dir_name), base_name + \".RED-Relation.gold.completed.xml\")\n",
    "    \n",
    "    tree = ET.parse(ann_file)\n",
    "    root = tree.getroot()\n",
    "    \n",
    "    \n",
    "    for elem in root.iter('relation'):\n",
    "        parenttype_elem = elem.find('parentsType')\n",
    "        type_elem = elem.find('type')\n",
    "        parents_type[parenttype_elem.text][type_elem.text]+= 1\n",
    "        \n",
    "        prop_elem = elem.find('properties')\n",
    "        for tag_elem in prop_elem:\n",
    "            type_properties[type_elem.text][tag_elem.tag] += 1 \n",
    "        \n",
    "\n",
    "for parent_type in parents_type:\n",
    "    print(parent_type)\n",
    "    for subtype in parents_type[parent_type]:\n",
    "        print(\"\\t{}\\t{}\".format(subtype, parents_type[parent_type][subtype])) \n",
    "    print()\n",
    "print(\"\\n\")\n",
    "\n",
    "for elem_type in type_properties:\n",
    "    attribute_counts = type_properties[elem_type]\n",
    "    attribs, attrib_counts = [], []\n",
    "    for attrib in attribute_counts:\n",
    "        attribs.append(attrib)\n",
    "        attrib_counts.append(attribute_counts[attrib])\n",
    "        \n",
    "    print(elem_type, *attribs, sep=\"\\t\")\n",
    "    attrib_counts = [''] + attrib_counts\n",
    "    print(*attrib_counts, sep=\"\\t\")\n",
    "        "
   ]
  }
 ],
 "metadata": {
  "kernelspec": {
   "display_name": "Python [conda env:narrative_10]",
   "language": "python",
   "name": "conda-env-narrative_10-py"
  },
  "language_info": {
   "codemirror_mode": {
    "name": "ipython",
    "version": 3
   },
   "file_extension": ".py",
   "mimetype": "text/x-python",
   "name": "python",
   "nbconvert_exporter": "python",
   "pygments_lexer": "ipython3",
   "version": "3.7.2"
  }
 },
 "nbformat": 4,
 "nbformat_minor": 2
}
