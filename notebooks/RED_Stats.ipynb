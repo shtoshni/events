{
 "cells": [
  {
   "cell_type": "code",
   "execution_count": 2,
   "metadata": {},
   "outputs": [],
   "source": [
    "import xml\n",
    "import xml.etree.ElementTree as ET\n",
    "import os\n",
    "from os import path\n",
    "import glob\n",
    "from collections import defaultdict"
   ]
  },
  {
   "cell_type": "code",
   "execution_count": 3,
   "metadata": {},
   "outputs": [],
   "source": [
    "data_dir = \"/home/shtoshni/Research/events/data/red/data/source\"\n",
    "source_files = glob.glob(\"{}/*/*\".format(data_dir))\n",
    "\n",
    "ann_dir = \"/home/shtoshni/Research/events/data/red/data/annotation\"\n",
    "ann_files = glob.glob(\"{}/*/*\".format(ann_dir))"
   ]
  },
  {
   "cell_type": "code",
   "execution_count": 4,
   "metadata": {},
   "outputs": [
    {
     "name": "stdout",
     "output_type": "stream",
     "text": [
      "8731\n",
      "10319\n"
     ]
    }
   ],
   "source": [
    "event_counter = 0\n",
    "entity_counter = 0\n",
    "for source_file in source_files:\n",
    "    base_name = path.basename(source_file)\n",
    "    dir_name = path.basename(path.dirname(source_file))\n",
    "    \n",
    "    ann_file = path.join(path.join(ann_dir, dir_name), base_name + \".RED-Relation.gold.completed.xml\")\n",
    "\n",
    "    tree = ET.parse(ann_file)\n",
    "    root = tree.getroot()\n",
    "    for elem in root.iter('entity'):\n",
    "    #     print(dir(elem))\n",
    "        for sub_elem in elem.iter('type'):\n",
    "            if sub_elem.text == 'EVENT':\n",
    "                event_counter += 1\n",
    "            elif sub_elem.text == 'ENTITY':\n",
    "                entity_counter += 1\n",
    "    \n",
    "print(event_counter)\n",
    "print(entity_counter)\n",
    "                "
   ]
  },
  {
   "cell_type": "code",
   "execution_count": 5,
   "metadata": {},
   "outputs": [
    {
     "name": "stdout",
     "output_type": "stream",
     "text": [
      "7\n"
     ]
    }
   ],
   "source": [
    "source_file = \"/home/shtoshni/Research/events/data/red/data/source/deft/04debcc4da342dc971bdef4210fe468a.mpdf\"\n",
    "source_str  = \"\".join(open(source_file).readlines())\n",
    "\n",
    "base_name = path.basename(source_file)\n",
    "dir_name = path.basename(path.dirname(source_file))\n",
    "\n",
    "ann_file = path.join(path.join(ann_dir, dir_name), base_name + \".RED-Relation.gold.completed.xml\")\n",
    "tree = ET.parse(ann_file)\n",
    "root = tree.getroot()\n",
    "\n",
    "\n",
    "for elem in root.iter('relation'):\n",
    "#     print(dir(elem))\n",
    "    elem_type = list(elem.iter('type'))[0].text\n",
    "    if elem_type == 'IDENTICAL':\n",
    "        identical_cnt += 1\n",
    "        \n",
    "print(identical_cnt)"
   ]
  },
  {
   "cell_type": "code",
   "execution_count": 14,
   "metadata": {},
   "outputs": [
    {
     "name": "stdout",
     "output_type": "stream",
     "text": [
      "Identical 2049\n",
      "Bridging 383\n",
      "Temporal 4345\n",
      "Event 8731\n",
      "Time 1127\n",
      "defaultdict(<class 'int'>, {'TemporalRelations': 4345, 'CorefChains': 4793})\n"
     ]
    }
   ],
   "source": [
    "identical_cnt = 0\n",
    "bridging_cnt = 0\n",
    "temporal_cnt = 0\n",
    "\n",
    "event_cnt = 0\n",
    "time_cnt = 0\n",
    "\n",
    "parent_type_counter = defaultdict(int)\n",
    "\n",
    "for source_file in source_files:#[\"/home/shtoshni/Research/events/data/red/data/source/deft/04debcc4da342dc971bdef4210fe468a.mpdf\"]:\n",
    "    # Read the source doc\n",
    "    source_lines = open(source_file).readlines()\n",
    "    source_str = \"\".join(source_lines)\n",
    "    \n",
    "    # Read the annotation file\n",
    "    base_name = path.basename(source_file)\n",
    "    dir_name = path.basename(path.dirname(source_file))\n",
    "    \n",
    "    ann_file = path.join(path.join(ann_dir, dir_name), base_name + \".RED-Relation.gold.completed.xml\")\n",
    "    \n",
    "    tree = ET.parse(ann_file)\n",
    "    root = tree.getroot()\n",
    "    entity_list = []\n",
    "    html_tag_list = defaultdict(list)\n",
    "    \n",
    "    for elem in root.iter('relation'):\n",
    "        elem_type = list(elem.iter('type'))[0].text\n",
    "        parents_type = list(elem.iter('parentsType'))[0].text\n",
    "        parent_type_counter[parents_type] += 1\n",
    "        \n",
    "        if elem_type == 'IDENTICAL':\n",
    "            identical_cnt += 1\n",
    "        elif elem_type == 'BRIDGING':\n",
    "            bridging_cnt += 1\n",
    "        elif parents_type == 'TemporalRelations':\n",
    "            temporal_cnt += 1\n",
    "            \n",
    "            \n",
    "    for elem in root.iter('entity'):\n",
    "        elem_type = list(elem.iter('type'))[0].text\n",
    "        if elem_type == 'EVENT':\n",
    "            event_cnt += 1\n",
    "        elif elem_type == 'TIMEX3':\n",
    "            time_cnt += 1\n",
    "        elif elem_type == 'SECTIONTIME':\n",
    "            time_cnt += 1\n",
    "        elif elem_type == 'DOCTIME':\n",
    "            time_cnt += 1\n",
    "            \n",
    "print(\"Identical %d\" % identical_cnt)\n",
    "print(\"Bridging %d\" % bridging_cnt)\n",
    "print(\"Temporal %d\" % temporal_cnt)\n",
    "\n",
    "\n",
    "print(\"Event %d\" % event_cnt)\n",
    "print(\"Time %d\" % time_cnt)\n",
    "\n",
    "print(parent_type_counter)"
   ]
  }
 ],
 "metadata": {
  "kernelspec": {
   "display_name": "Python [conda env:narrative_10] *",
   "language": "python",
   "name": "conda-env-narrative_10-py"
  },
  "language_info": {
   "codemirror_mode": {
    "name": "ipython",
    "version": 3
   },
   "file_extension": ".py",
   "mimetype": "text/x-python",
   "name": "python",
   "nbconvert_exporter": "python",
   "pygments_lexer": "ipython3",
   "version": "3.7.2"
  }
 },
 "nbformat": 4,
 "nbformat_minor": 2
}
