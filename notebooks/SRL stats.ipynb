{
 "cells": [
  {
   "cell_type": "code",
   "execution_count": 1,
   "metadata": {},
   "outputs": [],
   "source": [
    "import json\n",
    "from os import path"
   ]
  },
  {
   "cell_type": "code",
   "execution_count": 2,
   "metadata": {},
   "outputs": [],
   "source": [
    "train_file = \"/home/shtoshni/Research/events/proc_data/kbp_2015/srl/train.512.jsonlines\""
   ]
  },
  {
   "cell_type": "code",
   "execution_count": 6,
   "metadata": {},
   "outputs": [
    {
     "name": "stdout",
     "output_type": "stream",
     "text": [
      "smug ##gler ##s\n",
      "extra ##dition if I hire a team of 40 gold smug ##gler ##s and re ##ap the rewards ? Which would ignore the\n",
      "prison\n",
      "you to extra ##dit ##e you to India for a prison stint . Especially if India set the global market conditions\n",
      "extra ##dition\n",
      "[SPEAKER_END] So , India has no right to demand my extra ##dition if I hire a team of 40 gold smug ##gler\n",
      "fight\n",
      ", demand the government carry out a pro ##xy gun fight and arrest you to extra ##dit ##e you to India\n",
      "shoot up\n",
      "ban ##s are free to pressure the US military to shoot up Hartford , Connecticut and arrest Colt CEO ##s . Criminal\n",
      "per ##se ##cute\n",
      "on it . So it should control its borders and per ##se ##cute criminals within its national sovereignty . Would it be OK\n",
      "shoot up\n",
      "##az ##eera English The US government pressure Jamaican military to shoot up a neighbourhood and arrest a drug lord for trading in\n",
      "shipping\n",
      "great many things yes . In the case of commodity shipping - I ' d say no . Unless countries with\n",
      "round ##ing up\n",
      "Colt CEO ##s . Criminal ##ising commodities internationally and then round ##ing up foreign nationals is gross ##ly im ##mor ##al . Control\n",
      "per ##se ##cute\n",
      "this matter ? So it should control its borders and per ##se ##cute criminals within its national sovereignty . One country is allowed\n",
      "sentence\n",
      "Eddy ##M ##ab ##o [SPEAKER_END] Jamaican drug lord handed maximum sentence A US judge sentences Christopher ' Du ##dus ' Coke\n",
      "employing\n",
      "from smuggling gold into India if I did so through employing sur ##rogate ##s ? So , it would be legal\n",
      "deals\n",
      "the US [ orchestra ##ting drug trafficking and illegal weapons deals on us soil ] , which means he is liable\n",
      "trafficking\n",
      "He committed crimes in the US [ orchestra ##ting drug trafficking and illegal weapons deals on us soil ] , which\n",
      "fight\n",
      ", demand the government carry out a pro ##xy gun fight and arrest you to extra ##dit ##e you to India\n",
      "prisoner\n",
      "how international law cooperation works - if you want a prisoner arrested that is not in your country , you ask\n",
      "agreement\n",
      "? If Jam ##aca is game for it , the agreement between the two countries seems valid . Especially if India\n",
      "prison\n",
      "Christopher ' Du ##dus ' Coke to 23 years in prison . Jamaican drug lord handed maximum sentence - Americas -\n",
      "shipping\n",
      "great many things yes . In the case of commodity shipping - I ' d say no . Unless countries with\n",
      "round ##ing up\n",
      "Colt CEO ##s . Criminal ##ising commodities internationally and then round ##ing up foreign nationals is gross ##ly im ##mor ##al . Control\n",
      "deals\n",
      "the US [ orchestra ##ting drug trafficking and illegal weapons deals on us soil ] , which means he is liable\n",
      "cooperation\n",
      "much grand ##er scale . That is how international law cooperation works - if you want a prisoner arrested that is\n",
      "pressure\n",
      "Americas - Al J ##az ##eera English The US government pressure Jamaican military to shoot up a neighbourhood and arrest a\n",
      "smuggling\n",
      "previously committed the crime they are charging you with , smuggling said gold . S ##mu ##gg ##ling drugs and guns\n",
      "arrest\n",
      "the US military to shoot up Hartford , Connecticut and arrest Colt CEO ##s . Criminal ##ising commodities internationally and then\n",
      "trafficking\n",
      "He committed crimes in the US [ orchestra ##ting drug trafficking and illegal weapons deals on us soil ] , which\n",
      "end up\n",
      "it would be to attack the US because Colt products end up in tight gun control countries . When they enforce them\n",
      "employing\n",
      "from smuggling gold into India if I did so through employing sur ##rogate ##s ? [SPEAKER_START] Eddy ##M ##ab ##o [SPEAKER_END]\n",
      "trading\n",
      "shoot up a neighbourhood and arrest a drug lord for trading in an industry the US itself creates poor market conditions\n",
      "prison\n",
      "you to extra ##dit ##e you to India for a prison stint . Why not ? Who decides when a country\n",
      "arrest\n",
      "the US military to shoot up Hartford , Connecticut and arrest Colt CEO ##s . Criminal ##ising commodities internationally and then\n",
      "ta ##riff\n",
      "India to be profitable by putting a 4 % import ta ##riff on it . Would it be OK for India to\n",
      "shoot up\n",
      "ban ##s are free to pressure the US military to shoot up Hartford , Connecticut and arrest Colt CEO ##s . Criminal\n",
      "end up\n",
      "it would be to attack the US because Colt products end up in tight gun control countries . You mean have the\n",
      "cooperation\n",
      "##ed to the US . That is how international law cooperation works - if you want a prisoner arrested that is\n",
      "ta ##riff\n",
      "India to be profitable by putting a 4 % import ta ##riff on it . So it should control its borders and\n",
      "smuggling\n",
      "previously committed the crime they are charging you with , smuggling said gold . India as a culture has and India\n",
      "sentence\n",
      "23 years in prison . Jamaican drug lord handed maximum sentence - Americas - Al J ##az ##eera English The US\n"
     ]
    }
   ],
   "source": [
    "total_uniq_spans = 0\n",
    "spans_with_srl_ann = 0\n",
    "\n",
    "with open(train_file) as f:\n",
    "    for idx, line in enumerate(f):\n",
    "        instance = json.loads(line.strip())\n",
    "        doc = []\n",
    "        for sentence in instance[\"sentences\"]:\n",
    "            doc.extend(sentence)\n",
    "            \n",
    "        unique_spans = set()\n",
    "        for cluster in instance[\"clusters\"]:\n",
    "            for (span_start, span_end, _) in cluster:\n",
    "                unique_spans.add((span_start, span_end))\n",
    "        total_uniq_spans += len(unique_spans)\n",
    "        \n",
    "        \n",
    "        event_spans = set()\n",
    "        for srl_info in instance[\"srl_info\"]:\n",
    "            event_spans.add(tuple(srl_info[0]))\n",
    "        spans_with_srl_ann += len(event_spans.intersection(unique_spans))    \n",
    "        \n",
    "        \n",
    "        if idx == 0:\n",
    "            for span_start, span_end in unique_spans.difference(event_spans):\n",
    "                print (\" \".join(doc[span_start: span_end + 1]))\n",
    "                print(\" \".join(doc[span_start-10: span_end + 11]))\n",
    "        "
   ]
  },
  {
   "cell_type": "code",
   "execution_count": 4,
   "metadata": {},
   "outputs": [
    {
     "name": "stdout",
     "output_type": "stream",
     "text": [
      "5110 2470\n"
     ]
    }
   ],
   "source": [
    "print(total_uniq_spans, spans_with_srl_ann)"
   ]
  }
 ],
 "metadata": {
  "kernelspec": {
   "display_name": "Python [conda env:events] *",
   "language": "python",
   "name": "conda-env-events-py"
  },
  "language_info": {
   "codemirror_mode": {
    "name": "ipython",
    "version": 3
   },
   "file_extension": ".py",
   "mimetype": "text/x-python",
   "name": "python",
   "nbconvert_exporter": "python",
   "pygments_lexer": "ipython3",
   "version": "3.8.3"
  }
 },
 "nbformat": 4,
 "nbformat_minor": 4
}
